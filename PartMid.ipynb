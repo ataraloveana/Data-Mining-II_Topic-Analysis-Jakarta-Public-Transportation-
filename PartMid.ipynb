{
  "nbformat": 4,
  "nbformat_minor": 0,
  "metadata": {
    "colab": {
      "provenance": [],
      "gpuType": "T4"
    },
    "kernelspec": {
      "name": "python3",
      "display_name": "Python 3"
    },
    "language_info": {
      "name": "python"
    },
    "accelerator": "GPU",
    "widgets": {
      "application/vnd.jupyter.widget-state+json": {
        "f14698a691f2416aa9551f7c4281fae8": {
          "model_module": "@jupyter-widgets/controls",
          "model_name": "HBoxModel",
          "model_module_version": "1.5.0",
          "state": {
            "_dom_classes": [],
            "_model_module": "@jupyter-widgets/controls",
            "_model_module_version": "1.5.0",
            "_model_name": "HBoxModel",
            "_view_count": null,
            "_view_module": "@jupyter-widgets/controls",
            "_view_module_version": "1.5.0",
            "_view_name": "HBoxView",
            "box_style": "",
            "children": [
              "IPY_MODEL_fe484baacad04332b68b945811d4cba8",
              "IPY_MODEL_080bce2b424a4780a613295a7f6ccc4e",
              "IPY_MODEL_7f42811b1b634d61824ad0879893e1c2"
            ],
            "layout": "IPY_MODEL_595e32ebf51e4ac2b96bf6b828f4b867"
          }
        },
        "fe484baacad04332b68b945811d4cba8": {
          "model_module": "@jupyter-widgets/controls",
          "model_name": "HTMLModel",
          "model_module_version": "1.5.0",
          "state": {
            "_dom_classes": [],
            "_model_module": "@jupyter-widgets/controls",
            "_model_module_version": "1.5.0",
            "_model_name": "HTMLModel",
            "_view_count": null,
            "_view_module": "@jupyter-widgets/controls",
            "_view_module_version": "1.5.0",
            "_view_name": "HTMLView",
            "description": "",
            "description_tooltip": null,
            "layout": "IPY_MODEL_7821c024e52e4fbc9dc27fc2978277f9",
            "placeholder": "​",
            "style": "IPY_MODEL_f62296280572433e981a0a3d299cd2d7",
            "value": "Saving the dataset (1/1 shards): 100%"
          }
        },
        "080bce2b424a4780a613295a7f6ccc4e": {
          "model_module": "@jupyter-widgets/controls",
          "model_name": "FloatProgressModel",
          "model_module_version": "1.5.0",
          "state": {
            "_dom_classes": [],
            "_model_module": "@jupyter-widgets/controls",
            "_model_module_version": "1.5.0",
            "_model_name": "FloatProgressModel",
            "_view_count": null,
            "_view_module": "@jupyter-widgets/controls",
            "_view_module_version": "1.5.0",
            "_view_name": "ProgressView",
            "bar_style": "success",
            "description": "",
            "description_tooltip": null,
            "layout": "IPY_MODEL_81e588d979e84d56ab0bd6355110ccc0",
            "max": 10105,
            "min": 0,
            "orientation": "horizontal",
            "style": "IPY_MODEL_a22a917840f344fc841e4b9f94f8c617",
            "value": 10105
          }
        },
        "7f42811b1b634d61824ad0879893e1c2": {
          "model_module": "@jupyter-widgets/controls",
          "model_name": "HTMLModel",
          "model_module_version": "1.5.0",
          "state": {
            "_dom_classes": [],
            "_model_module": "@jupyter-widgets/controls",
            "_model_module_version": "1.5.0",
            "_model_name": "HTMLModel",
            "_view_count": null,
            "_view_module": "@jupyter-widgets/controls",
            "_view_module_version": "1.5.0",
            "_view_name": "HTMLView",
            "description": "",
            "description_tooltip": null,
            "layout": "IPY_MODEL_5f22d463e81d459b8b61d6a2d96de9da",
            "placeholder": "​",
            "style": "IPY_MODEL_0ff617fd37b94d2ebf1845e4d027bb05",
            "value": " 10105/10105 [00:00&lt;00:00, 129791.58 examples/s]"
          }
        },
        "595e32ebf51e4ac2b96bf6b828f4b867": {
          "model_module": "@jupyter-widgets/base",
          "model_name": "LayoutModel",
          "model_module_version": "1.2.0",
          "state": {
            "_model_module": "@jupyter-widgets/base",
            "_model_module_version": "1.2.0",
            "_model_name": "LayoutModel",
            "_view_count": null,
            "_view_module": "@jupyter-widgets/base",
            "_view_module_version": "1.2.0",
            "_view_name": "LayoutView",
            "align_content": null,
            "align_items": null,
            "align_self": null,
            "border": null,
            "bottom": null,
            "display": null,
            "flex": null,
            "flex_flow": null,
            "grid_area": null,
            "grid_auto_columns": null,
            "grid_auto_flow": null,
            "grid_auto_rows": null,
            "grid_column": null,
            "grid_gap": null,
            "grid_row": null,
            "grid_template_areas": null,
            "grid_template_columns": null,
            "grid_template_rows": null,
            "height": null,
            "justify_content": null,
            "justify_items": null,
            "left": null,
            "margin": null,
            "max_height": null,
            "max_width": null,
            "min_height": null,
            "min_width": null,
            "object_fit": null,
            "object_position": null,
            "order": null,
            "overflow": null,
            "overflow_x": null,
            "overflow_y": null,
            "padding": null,
            "right": null,
            "top": null,
            "visibility": null,
            "width": null
          }
        },
        "7821c024e52e4fbc9dc27fc2978277f9": {
          "model_module": "@jupyter-widgets/base",
          "model_name": "LayoutModel",
          "model_module_version": "1.2.0",
          "state": {
            "_model_module": "@jupyter-widgets/base",
            "_model_module_version": "1.2.0",
            "_model_name": "LayoutModel",
            "_view_count": null,
            "_view_module": "@jupyter-widgets/base",
            "_view_module_version": "1.2.0",
            "_view_name": "LayoutView",
            "align_content": null,
            "align_items": null,
            "align_self": null,
            "border": null,
            "bottom": null,
            "display": null,
            "flex": null,
            "flex_flow": null,
            "grid_area": null,
            "grid_auto_columns": null,
            "grid_auto_flow": null,
            "grid_auto_rows": null,
            "grid_column": null,
            "grid_gap": null,
            "grid_row": null,
            "grid_template_areas": null,
            "grid_template_columns": null,
            "grid_template_rows": null,
            "height": null,
            "justify_content": null,
            "justify_items": null,
            "left": null,
            "margin": null,
            "max_height": null,
            "max_width": null,
            "min_height": null,
            "min_width": null,
            "object_fit": null,
            "object_position": null,
            "order": null,
            "overflow": null,
            "overflow_x": null,
            "overflow_y": null,
            "padding": null,
            "right": null,
            "top": null,
            "visibility": null,
            "width": null
          }
        },
        "f62296280572433e981a0a3d299cd2d7": {
          "model_module": "@jupyter-widgets/controls",
          "model_name": "DescriptionStyleModel",
          "model_module_version": "1.5.0",
          "state": {
            "_model_module": "@jupyter-widgets/controls",
            "_model_module_version": "1.5.0",
            "_model_name": "DescriptionStyleModel",
            "_view_count": null,
            "_view_module": "@jupyter-widgets/base",
            "_view_module_version": "1.2.0",
            "_view_name": "StyleView",
            "description_width": ""
          }
        },
        "81e588d979e84d56ab0bd6355110ccc0": {
          "model_module": "@jupyter-widgets/base",
          "model_name": "LayoutModel",
          "model_module_version": "1.2.0",
          "state": {
            "_model_module": "@jupyter-widgets/base",
            "_model_module_version": "1.2.0",
            "_model_name": "LayoutModel",
            "_view_count": null,
            "_view_module": "@jupyter-widgets/base",
            "_view_module_version": "1.2.0",
            "_view_name": "LayoutView",
            "align_content": null,
            "align_items": null,
            "align_self": null,
            "border": null,
            "bottom": null,
            "display": null,
            "flex": null,
            "flex_flow": null,
            "grid_area": null,
            "grid_auto_columns": null,
            "grid_auto_flow": null,
            "grid_auto_rows": null,
            "grid_column": null,
            "grid_gap": null,
            "grid_row": null,
            "grid_template_areas": null,
            "grid_template_columns": null,
            "grid_template_rows": null,
            "height": null,
            "justify_content": null,
            "justify_items": null,
            "left": null,
            "margin": null,
            "max_height": null,
            "max_width": null,
            "min_height": null,
            "min_width": null,
            "object_fit": null,
            "object_position": null,
            "order": null,
            "overflow": null,
            "overflow_x": null,
            "overflow_y": null,
            "padding": null,
            "right": null,
            "top": null,
            "visibility": null,
            "width": null
          }
        },
        "a22a917840f344fc841e4b9f94f8c617": {
          "model_module": "@jupyter-widgets/controls",
          "model_name": "ProgressStyleModel",
          "model_module_version": "1.5.0",
          "state": {
            "_model_module": "@jupyter-widgets/controls",
            "_model_module_version": "1.5.0",
            "_model_name": "ProgressStyleModel",
            "_view_count": null,
            "_view_module": "@jupyter-widgets/base",
            "_view_module_version": "1.2.0",
            "_view_name": "StyleView",
            "bar_color": null,
            "description_width": ""
          }
        },
        "5f22d463e81d459b8b61d6a2d96de9da": {
          "model_module": "@jupyter-widgets/base",
          "model_name": "LayoutModel",
          "model_module_version": "1.2.0",
          "state": {
            "_model_module": "@jupyter-widgets/base",
            "_model_module_version": "1.2.0",
            "_model_name": "LayoutModel",
            "_view_count": null,
            "_view_module": "@jupyter-widgets/base",
            "_view_module_version": "1.2.0",
            "_view_name": "LayoutView",
            "align_content": null,
            "align_items": null,
            "align_self": null,
            "border": null,
            "bottom": null,
            "display": null,
            "flex": null,
            "flex_flow": null,
            "grid_area": null,
            "grid_auto_columns": null,
            "grid_auto_flow": null,
            "grid_auto_rows": null,
            "grid_column": null,
            "grid_gap": null,
            "grid_row": null,
            "grid_template_areas": null,
            "grid_template_columns": null,
            "grid_template_rows": null,
            "height": null,
            "justify_content": null,
            "justify_items": null,
            "left": null,
            "margin": null,
            "max_height": null,
            "max_width": null,
            "min_height": null,
            "min_width": null,
            "object_fit": null,
            "object_position": null,
            "order": null,
            "overflow": null,
            "overflow_x": null,
            "overflow_y": null,
            "padding": null,
            "right": null,
            "top": null,
            "visibility": null,
            "width": null
          }
        },
        "0ff617fd37b94d2ebf1845e4d027bb05": {
          "model_module": "@jupyter-widgets/controls",
          "model_name": "DescriptionStyleModel",
          "model_module_version": "1.5.0",
          "state": {
            "_model_module": "@jupyter-widgets/controls",
            "_model_module_version": "1.5.0",
            "_model_name": "DescriptionStyleModel",
            "_view_count": null,
            "_view_module": "@jupyter-widgets/base",
            "_view_module_version": "1.2.0",
            "_view_name": "StyleView",
            "description_width": ""
          }
        }
      }
    }
  },
  "cells": [
    {
      "cell_type": "code",
      "source": [
        "!pip install -U datasets -qq"
      ],
      "metadata": {
        "id": "KCG3K4boWB4m"
      },
      "execution_count": 49,
      "outputs": []
    },
    {
      "cell_type": "code",
      "execution_count": 50,
      "metadata": {
        "id": "yDlzLjx-VvWV"
      },
      "outputs": [],
      "source": [
        "import numpy as np\n",
        "import pandas as pd\n",
        "from datasets import Dataset, load_from_disk\n",
        "from torch.utils.data import DataLoader\n",
        "import torch\n",
        "from transformers import AutoTokenizer, AutoModel"
      ]
    },
    {
      "cell_type": "code",
      "source": [
        "data = pd.read_csv(\"clean_uas.csv\")[\"teks\"]\n",
        "len(data)"
      ],
      "metadata": {
        "colab": {
          "base_uri": "https://localhost:8080/"
        },
        "id": "bVFVzHXhWMn2",
        "outputId": "ffa488c9-4f87-4817-eb1b-a69b30ec0434"
      },
      "execution_count": 51,
      "outputs": [
        {
          "output_type": "execute_result",
          "data": {
            "text/plain": [
              "10105"
            ]
          },
          "metadata": {},
          "execution_count": 51
        }
      ]
    },
    {
      "cell_type": "code",
      "source": [
        "Dataset.from_dict({\"data\": data}).save_to_disk(\"nlp\")\n",
        "ds = load_from_disk(\"nlp\").with_format(\"torch\")\n",
        "dataloader = DataLoader(ds, batch_size=32, num_workers=2)"
      ],
      "metadata": {
        "colab": {
          "base_uri": "https://localhost:8080/",
          "height": 49,
          "referenced_widgets": [
            "f14698a691f2416aa9551f7c4281fae8",
            "fe484baacad04332b68b945811d4cba8",
            "080bce2b424a4780a613295a7f6ccc4e",
            "7f42811b1b634d61824ad0879893e1c2",
            "595e32ebf51e4ac2b96bf6b828f4b867",
            "7821c024e52e4fbc9dc27fc2978277f9",
            "f62296280572433e981a0a3d299cd2d7",
            "81e588d979e84d56ab0bd6355110ccc0",
            "a22a917840f344fc841e4b9f94f8c617",
            "5f22d463e81d459b8b61d6a2d96de9da",
            "0ff617fd37b94d2ebf1845e4d027bb05"
          ]
        },
        "id": "IUrNjCyzWLX9",
        "outputId": "4e0f4f9b-42a1-45d8-83e0-772a68cd22af"
      },
      "execution_count": 52,
      "outputs": [
        {
          "output_type": "display_data",
          "data": {
            "text/plain": [
              "Saving the dataset (0/1 shards):   0%|          | 0/10105 [00:00<?, ? examples/s]"
            ],
            "application/vnd.jupyter.widget-view+json": {
              "version_major": 2,
              "version_minor": 0,
              "model_id": "f14698a691f2416aa9551f7c4281fae8"
            }
          },
          "metadata": {}
        }
      ]
    },
    {
      "cell_type": "code",
      "source": [
        "tokenizer = AutoTokenizer.from_pretrained('sentence-transformers/paraphrase-multilingual-mpnet-base-v2')\n",
        "ds = ds.map(lambda e: tokenizer(e['data'], truncation=True, padding='max_length'), batched=True)"
      ],
      "metadata": {
        "id": "JySeaVcwXi83"
      },
      "execution_count": 53,
      "outputs": []
    },
    {
      "cell_type": "code",
      "source": [
        "ds.set_format(type='torch', columns=['data', 'input_ids', 'attention_mask'])\n",
        "dataloader = torch.utils.data.DataLoader(ds, batch_size=128)"
      ],
      "metadata": {
        "id": "PfY9U6k2WWXD"
      },
      "execution_count": 54,
      "outputs": []
    },
    {
      "cell_type": "code",
      "source": [
        "device = torch.device('cuda') if torch.cuda.is_available() else torch.device('cpu')\n",
        "device"
      ],
      "metadata": {
        "colab": {
          "base_uri": "https://localhost:8080/"
        },
        "id": "XUCz0XBpZnZl",
        "outputId": "cec45714-afe0-4b88-dc22-6daea9df63bb"
      },
      "execution_count": 55,
      "outputs": [
        {
          "output_type": "execute_result",
          "data": {
            "text/plain": [
              "device(type='cuda')"
            ]
          },
          "metadata": {},
          "execution_count": 55
        }
      ]
    },
    {
      "cell_type": "code",
      "source": [
        "model = AutoModel.from_pretrained('sentence-transformers/paraphrase-multilingual-mpnet-base-v2').to(device)"
      ],
      "metadata": {
        "id": "YigdQ9pAZaLd"
      },
      "execution_count": 56,
      "outputs": []
    },
    {
      "cell_type": "code",
      "source": [
        "# Mean Pooling - Take attention mask into account for correct averaging\n",
        "def mean_pooling(model_output, attention_mask):\n",
        "    token_embeddings = model_output[0] #First element of model_output contains all token embeddings\n",
        "    input_mask_expanded = attention_mask.unsqueeze(-1).expand(token_embeddings.size()).float()\n",
        "    return torch.sum(token_embeddings * input_mask_expanded, 1) / torch.clamp(input_mask_expanded.sum(1), min=1e-9)"
      ],
      "metadata": {
        "id": "Y-oGsDBDZ4Ud"
      },
      "execution_count": 73,
      "outputs": []
    },
    {
      "cell_type": "code",
      "source": [
        "from tqdm import tqdm"
      ],
      "metadata": {
        "id": "3ERlSiAVbl4F"
      },
      "execution_count": 74,
      "outputs": []
    },
    {
      "cell_type": "code",
      "source": [
        "for idx, batch in tqdm(enumerate(dataloader), total=len(dataloader)):\n",
        "  # Compute token embeddings\n",
        "  with torch.no_grad():\n",
        "    input_ids = batch['input_ids'].to(device)\n",
        "    attention_mask = batch['attention_mask'].to(device)\n",
        "    # labels = batch['labels'].to(device)\n",
        "    outputs = model(input_ids, attention_mask=attention_mask)\n",
        "\n",
        "  # Perform pooling. In this case, max pooling.\n",
        "  sentence_embeddings = mean_pooling(outputs, attention_mask).to('cpu')\n",
        "  np.save(f'/content/corpus_embed/sentence_embeddings_{idx}.npy', sentence_embeddings)"
      ],
      "metadata": {
        "colab": {
          "base_uri": "https://localhost:8080/",
          "height": 373
        },
        "id": "bTuICO7LYgY7",
        "outputId": "a59d4efe-a0ab-42e4-c327-ead961dc75c9"
      },
      "execution_count": 59,
      "outputs": [
        {
          "output_type": "stream",
          "name": "stderr",
          "text": [
            "  0%|          | 0/79 [00:04<?, ?it/s]\n"
          ]
        },
        {
          "output_type": "error",
          "ename": "FileNotFoundError",
          "evalue": "ignored",
          "traceback": [
            "\u001b[0;31m---------------------------------------------------------------------------\u001b[0m",
            "\u001b[0;31mFileNotFoundError\u001b[0m                         Traceback (most recent call last)",
            "\u001b[0;32m<ipython-input-59-542762bd0da2>\u001b[0m in \u001b[0;36m<cell line: 1>\u001b[0;34m()\u001b[0m\n\u001b[1;32m      9\u001b[0m   \u001b[0;31m# Perform pooling. In this case, max pooling.\u001b[0m\u001b[0;34m\u001b[0m\u001b[0;34m\u001b[0m\u001b[0m\n\u001b[1;32m     10\u001b[0m   \u001b[0msentence_embeddings\u001b[0m \u001b[0;34m=\u001b[0m \u001b[0mmean_pooling\u001b[0m\u001b[0;34m(\u001b[0m\u001b[0moutputs\u001b[0m\u001b[0;34m,\u001b[0m \u001b[0mattention_mask\u001b[0m\u001b[0;34m)\u001b[0m\u001b[0;34m.\u001b[0m\u001b[0mto\u001b[0m\u001b[0;34m(\u001b[0m\u001b[0;34m'cpu'\u001b[0m\u001b[0;34m)\u001b[0m\u001b[0;34m\u001b[0m\u001b[0;34m\u001b[0m\u001b[0m\n\u001b[0;32m---> 11\u001b[0;31m   \u001b[0mnp\u001b[0m\u001b[0;34m.\u001b[0m\u001b[0msave\u001b[0m\u001b[0;34m(\u001b[0m\u001b[0;34mf'/content/corpus_embed/sentence_embeddings_{idx}.npy'\u001b[0m\u001b[0;34m,\u001b[0m \u001b[0msentence_embeddings\u001b[0m\u001b[0;34m)\u001b[0m\u001b[0;34m\u001b[0m\u001b[0;34m\u001b[0m\u001b[0m\n\u001b[0m",
            "\u001b[0;32m/usr/local/lib/python3.10/dist-packages/numpy/core/overrides.py\u001b[0m in \u001b[0;36msave\u001b[0;34m(*args, **kwargs)\u001b[0m\n",
            "\u001b[0;32m/usr/local/lib/python3.10/dist-packages/numpy/lib/npyio.py\u001b[0m in \u001b[0;36msave\u001b[0;34m(file, arr, allow_pickle, fix_imports)\u001b[0m\n\u001b[1;32m    516\u001b[0m         \u001b[0;32mif\u001b[0m \u001b[0;32mnot\u001b[0m \u001b[0mfile\u001b[0m\u001b[0;34m.\u001b[0m\u001b[0mendswith\u001b[0m\u001b[0;34m(\u001b[0m\u001b[0;34m'.npy'\u001b[0m\u001b[0;34m)\u001b[0m\u001b[0;34m:\u001b[0m\u001b[0;34m\u001b[0m\u001b[0;34m\u001b[0m\u001b[0m\n\u001b[1;32m    517\u001b[0m             \u001b[0mfile\u001b[0m \u001b[0;34m=\u001b[0m \u001b[0mfile\u001b[0m \u001b[0;34m+\u001b[0m \u001b[0;34m'.npy'\u001b[0m\u001b[0;34m\u001b[0m\u001b[0;34m\u001b[0m\u001b[0m\n\u001b[0;32m--> 518\u001b[0;31m         \u001b[0mfile_ctx\u001b[0m \u001b[0;34m=\u001b[0m \u001b[0mopen\u001b[0m\u001b[0;34m(\u001b[0m\u001b[0mfile\u001b[0m\u001b[0;34m,\u001b[0m \u001b[0;34m\"wb\"\u001b[0m\u001b[0;34m)\u001b[0m\u001b[0;34m\u001b[0m\u001b[0;34m\u001b[0m\u001b[0m\n\u001b[0m\u001b[1;32m    519\u001b[0m \u001b[0;34m\u001b[0m\u001b[0m\n\u001b[1;32m    520\u001b[0m     \u001b[0;32mwith\u001b[0m \u001b[0mfile_ctx\u001b[0m \u001b[0;32mas\u001b[0m \u001b[0mfid\u001b[0m\u001b[0;34m:\u001b[0m\u001b[0;34m\u001b[0m\u001b[0;34m\u001b[0m\u001b[0m\n",
            "\u001b[0;31mFileNotFoundError\u001b[0m: [Errno 2] No such file or directory: '/content/corpus_embed/sentence_embeddings_0.npy'"
          ]
        }
      ]
    },
    {
      "cell_type": "code",
      "source": [
        "from google.colab import drive\n",
        "drive.mount('/content/drive')"
      ],
      "metadata": {
        "colab": {
          "base_uri": "https://localhost:8080/",
          "height": 356
        },
        "id": "6N4rpmPdiCQ-",
        "outputId": "fc6b9226-8cfc-42c2-c493-42477fbc5d2f"
      },
      "execution_count": 60,
      "outputs": [
        {
          "output_type": "error",
          "ename": "MessageError",
          "evalue": "ignored",
          "traceback": [
            "\u001b[0;31m---------------------------------------------------------------------------\u001b[0m",
            "\u001b[0;31mMessageError\u001b[0m                              Traceback (most recent call last)",
            "\u001b[0;32m<ipython-input-60-d5df0069828e>\u001b[0m in \u001b[0;36m<cell line: 2>\u001b[0;34m()\u001b[0m\n\u001b[1;32m      1\u001b[0m \u001b[0;32mfrom\u001b[0m \u001b[0mgoogle\u001b[0m\u001b[0;34m.\u001b[0m\u001b[0mcolab\u001b[0m \u001b[0;32mimport\u001b[0m \u001b[0mdrive\u001b[0m\u001b[0;34m\u001b[0m\u001b[0;34m\u001b[0m\u001b[0m\n\u001b[0;32m----> 2\u001b[0;31m \u001b[0mdrive\u001b[0m\u001b[0;34m.\u001b[0m\u001b[0mmount\u001b[0m\u001b[0;34m(\u001b[0m\u001b[0;34m'/content/drive'\u001b[0m\u001b[0;34m)\u001b[0m\u001b[0;34m\u001b[0m\u001b[0;34m\u001b[0m\u001b[0m\n\u001b[0m",
            "\u001b[0;32m/usr/local/lib/python3.10/dist-packages/google/colab/drive.py\u001b[0m in \u001b[0;36mmount\u001b[0;34m(mountpoint, force_remount, timeout_ms, readonly)\u001b[0m\n\u001b[1;32m     98\u001b[0m \u001b[0;32mdef\u001b[0m \u001b[0mmount\u001b[0m\u001b[0;34m(\u001b[0m\u001b[0mmountpoint\u001b[0m\u001b[0;34m,\u001b[0m \u001b[0mforce_remount\u001b[0m\u001b[0;34m=\u001b[0m\u001b[0;32mFalse\u001b[0m\u001b[0;34m,\u001b[0m \u001b[0mtimeout_ms\u001b[0m\u001b[0;34m=\u001b[0m\u001b[0;36m120000\u001b[0m\u001b[0;34m,\u001b[0m \u001b[0mreadonly\u001b[0m\u001b[0;34m=\u001b[0m\u001b[0;32mFalse\u001b[0m\u001b[0;34m)\u001b[0m\u001b[0;34m:\u001b[0m\u001b[0;34m\u001b[0m\u001b[0;34m\u001b[0m\u001b[0m\n\u001b[1;32m     99\u001b[0m   \u001b[0;34m\"\"\"Mount your Google Drive at the specified mountpoint path.\"\"\"\u001b[0m\u001b[0;34m\u001b[0m\u001b[0;34m\u001b[0m\u001b[0m\n\u001b[0;32m--> 100\u001b[0;31m   return _mount(\n\u001b[0m\u001b[1;32m    101\u001b[0m       \u001b[0mmountpoint\u001b[0m\u001b[0;34m,\u001b[0m\u001b[0;34m\u001b[0m\u001b[0;34m\u001b[0m\u001b[0m\n\u001b[1;32m    102\u001b[0m       \u001b[0mforce_remount\u001b[0m\u001b[0;34m=\u001b[0m\u001b[0mforce_remount\u001b[0m\u001b[0;34m,\u001b[0m\u001b[0;34m\u001b[0m\u001b[0;34m\u001b[0m\u001b[0m\n",
            "\u001b[0;32m/usr/local/lib/python3.10/dist-packages/google/colab/drive.py\u001b[0m in \u001b[0;36m_mount\u001b[0;34m(mountpoint, force_remount, timeout_ms, ephemeral, readonly)\u001b[0m\n\u001b[1;32m    127\u001b[0m   )\n\u001b[1;32m    128\u001b[0m   \u001b[0;32mif\u001b[0m \u001b[0mephemeral\u001b[0m\u001b[0;34m:\u001b[0m\u001b[0;34m\u001b[0m\u001b[0;34m\u001b[0m\u001b[0m\n\u001b[0;32m--> 129\u001b[0;31m     _message.blocking_request(\n\u001b[0m\u001b[1;32m    130\u001b[0m         \u001b[0;34m'request_auth'\u001b[0m\u001b[0;34m,\u001b[0m \u001b[0mrequest\u001b[0m\u001b[0;34m=\u001b[0m\u001b[0;34m{\u001b[0m\u001b[0;34m'authType'\u001b[0m\u001b[0;34m:\u001b[0m \u001b[0;34m'dfs_ephemeral'\u001b[0m\u001b[0;34m}\u001b[0m\u001b[0;34m,\u001b[0m \u001b[0mtimeout_sec\u001b[0m\u001b[0;34m=\u001b[0m\u001b[0;32mNone\u001b[0m\u001b[0;34m\u001b[0m\u001b[0;34m\u001b[0m\u001b[0m\n\u001b[1;32m    131\u001b[0m     )\n",
            "\u001b[0;32m/usr/local/lib/python3.10/dist-packages/google/colab/_message.py\u001b[0m in \u001b[0;36mblocking_request\u001b[0;34m(request_type, request, timeout_sec, parent)\u001b[0m\n\u001b[1;32m    174\u001b[0m       \u001b[0mrequest_type\u001b[0m\u001b[0;34m,\u001b[0m \u001b[0mrequest\u001b[0m\u001b[0;34m,\u001b[0m \u001b[0mparent\u001b[0m\u001b[0;34m=\u001b[0m\u001b[0mparent\u001b[0m\u001b[0;34m,\u001b[0m \u001b[0mexpect_reply\u001b[0m\u001b[0;34m=\u001b[0m\u001b[0;32mTrue\u001b[0m\u001b[0;34m\u001b[0m\u001b[0;34m\u001b[0m\u001b[0m\n\u001b[1;32m    175\u001b[0m   )\n\u001b[0;32m--> 176\u001b[0;31m   \u001b[0;32mreturn\u001b[0m \u001b[0mread_reply_from_input\u001b[0m\u001b[0;34m(\u001b[0m\u001b[0mrequest_id\u001b[0m\u001b[0;34m,\u001b[0m \u001b[0mtimeout_sec\u001b[0m\u001b[0;34m)\u001b[0m\u001b[0;34m\u001b[0m\u001b[0;34m\u001b[0m\u001b[0m\n\u001b[0m",
            "\u001b[0;32m/usr/local/lib/python3.10/dist-packages/google/colab/_message.py\u001b[0m in \u001b[0;36mread_reply_from_input\u001b[0;34m(message_id, timeout_sec)\u001b[0m\n\u001b[1;32m    101\u001b[0m     ):\n\u001b[1;32m    102\u001b[0m       \u001b[0;32mif\u001b[0m \u001b[0;34m'error'\u001b[0m \u001b[0;32min\u001b[0m \u001b[0mreply\u001b[0m\u001b[0;34m:\u001b[0m\u001b[0;34m\u001b[0m\u001b[0;34m\u001b[0m\u001b[0m\n\u001b[0;32m--> 103\u001b[0;31m         \u001b[0;32mraise\u001b[0m \u001b[0mMessageError\u001b[0m\u001b[0;34m(\u001b[0m\u001b[0mreply\u001b[0m\u001b[0;34m[\u001b[0m\u001b[0;34m'error'\u001b[0m\u001b[0;34m]\u001b[0m\u001b[0;34m)\u001b[0m\u001b[0;34m\u001b[0m\u001b[0;34m\u001b[0m\u001b[0m\n\u001b[0m\u001b[1;32m    104\u001b[0m       \u001b[0;32mreturn\u001b[0m \u001b[0mreply\u001b[0m\u001b[0;34m.\u001b[0m\u001b[0mget\u001b[0m\u001b[0;34m(\u001b[0m\u001b[0;34m'data'\u001b[0m\u001b[0;34m,\u001b[0m \u001b[0;32mNone\u001b[0m\u001b[0;34m)\u001b[0m\u001b[0;34m\u001b[0m\u001b[0;34m\u001b[0m\u001b[0m\n\u001b[1;32m    105\u001b[0m \u001b[0;34m\u001b[0m\u001b[0m\n",
            "\u001b[0;31mMessageError\u001b[0m: Error: credential propagation was unsuccessful"
          ]
        }
      ]
    },
    {
      "cell_type": "code",
      "source": [
        "import os\n",
        "list_file = []\n",
        "for file in os.listdir(\"/content\"):\n",
        "    if file.startswith(\"sentence_embedd\"):\n",
        "        list_file.append(file)\n",
        "list_file"
      ],
      "metadata": {
        "id": "S6Q0VZdJbrAt",
        "colab": {
          "base_uri": "https://localhost:8080/"
        },
        "outputId": "8549fb12-f623-4811-a077-7b654298a4b9"
      },
      "execution_count": 68,
      "outputs": [
        {
          "output_type": "execute_result",
          "data": {
            "text/plain": [
              "[]"
            ]
          },
          "metadata": {},
          "execution_count": 68
        }
      ]
    },
    {
      "cell_type": "code",
      "source": [
        "from google.colab import files\n",
        "for i in list_file: files.download(i)"
      ],
      "metadata": {
        "id": "qFajpROriRSy"
      },
      "execution_count": 75,
      "outputs": []
    },
    {
      "cell_type": "code",
      "source": [
        "!pip install natsort -qq"
      ],
      "metadata": {
        "id": "gWz4-0jCjsBs"
      },
      "execution_count": 76,
      "outputs": []
    },
    {
      "cell_type": "code",
      "source": [
        "from natsort import natsorted\n",
        "import glob"
      ],
      "metadata": {
        "id": "ZMfMBzNRlTxi"
      },
      "execution_count": 77,
      "outputs": []
    },
    {
      "cell_type": "code",
      "source": [
        "corpus = []\n",
        "for e in natsorted(glob.glob(\"/content/corpus_embed/*.npy\")):\n",
        "    print(e)\n",
        "    corpus.append(np.load(e))\n",
        "    mean_pooled = np.vstack(corpus)\n",
        "    print('Success corpus append')\n",
        "np.save('corpus_dense_embeddings_all_data_ordered.npy', mean_pooled)"
      ],
      "metadata": {
        "id": "VRVKmEkbeNnN",
        "colab": {
          "base_uri": "https://localhost:8080/",
          "height": 211
        },
        "outputId": "6a0edf85-898c-4da8-8e3c-0d077106a236"
      },
      "execution_count": 78,
      "outputs": [
        {
          "output_type": "error",
          "ename": "NameError",
          "evalue": "ignored",
          "traceback": [
            "\u001b[0;31m---------------------------------------------------------------------------\u001b[0m",
            "\u001b[0;31mNameError\u001b[0m                                 Traceback (most recent call last)",
            "\u001b[0;32m<ipython-input-78-cafbe806713c>\u001b[0m in \u001b[0;36m<cell line: 7>\u001b[0;34m()\u001b[0m\n\u001b[1;32m      5\u001b[0m     \u001b[0mmean_pooled\u001b[0m \u001b[0;34m=\u001b[0m \u001b[0mnp\u001b[0m\u001b[0;34m.\u001b[0m\u001b[0mvstack\u001b[0m\u001b[0;34m(\u001b[0m\u001b[0mcorpus\u001b[0m\u001b[0;34m)\u001b[0m\u001b[0;34m\u001b[0m\u001b[0;34m\u001b[0m\u001b[0m\n\u001b[1;32m      6\u001b[0m     \u001b[0mprint\u001b[0m\u001b[0;34m(\u001b[0m\u001b[0;34m'Success corpus append'\u001b[0m\u001b[0;34m)\u001b[0m\u001b[0;34m\u001b[0m\u001b[0;34m\u001b[0m\u001b[0m\n\u001b[0;32m----> 7\u001b[0;31m \u001b[0mnp\u001b[0m\u001b[0;34m.\u001b[0m\u001b[0msave\u001b[0m\u001b[0;34m(\u001b[0m\u001b[0;34m'corpus_dense_embeddings_all_data_ordered.npy'\u001b[0m\u001b[0;34m,\u001b[0m \u001b[0mmean_pooled\u001b[0m\u001b[0;34m)\u001b[0m\u001b[0;34m\u001b[0m\u001b[0;34m\u001b[0m\u001b[0m\n\u001b[0m",
            "\u001b[0;31mNameError\u001b[0m: name 'mean_pooled' is not defined"
          ]
        }
      ]
    },
    {
      "cell_type": "code",
      "source": [
        "from sklearn.metrics.pairwise import cosine_similarity"
      ],
      "metadata": {
        "id": "N2ruarO5t7ul"
      },
      "execution_count": 79,
      "outputs": []
    },
    {
      "cell_type": "code",
      "source": [
        "!pip install sentence_transformers"
      ],
      "metadata": {
        "colab": {
          "base_uri": "https://localhost:8080/"
        },
        "id": "vJaZBEA9vN9n",
        "outputId": "74688dee-b042-4908-960c-e7a5289e48e1"
      },
      "execution_count": 21,
      "outputs": [
        {
          "output_type": "stream",
          "name": "stdout",
          "text": [
            "Collecting sentence_transformers\n",
            "  Downloading sentence-transformers-2.2.2.tar.gz (85 kB)\n",
            "\u001b[2K     \u001b[90m━━━━━━━━━━━━━━━━━━━━━━━━━━━━━━━━━━━━━━━━\u001b[0m \u001b[32m86.0/86.0 kB\u001b[0m \u001b[31m1.9 MB/s\u001b[0m eta \u001b[36m0:00:00\u001b[0m\n",
            "\u001b[?25h  Preparing metadata (setup.py) ... \u001b[?25l\u001b[?25hdone\n",
            "Requirement already satisfied: transformers<5.0.0,>=4.6.0 in /usr/local/lib/python3.10/dist-packages (from sentence_transformers) (4.35.2)\n",
            "Requirement already satisfied: tqdm in /usr/local/lib/python3.10/dist-packages (from sentence_transformers) (4.66.1)\n",
            "Requirement already satisfied: torch>=1.6.0 in /usr/local/lib/python3.10/dist-packages (from sentence_transformers) (2.1.0+cu121)\n",
            "Requirement already satisfied: torchvision in /usr/local/lib/python3.10/dist-packages (from sentence_transformers) (0.16.0+cu121)\n",
            "Requirement already satisfied: numpy in /usr/local/lib/python3.10/dist-packages (from sentence_transformers) (1.23.5)\n",
            "Requirement already satisfied: scikit-learn in /usr/local/lib/python3.10/dist-packages (from sentence_transformers) (1.2.2)\n",
            "Requirement already satisfied: scipy in /usr/local/lib/python3.10/dist-packages (from sentence_transformers) (1.11.4)\n",
            "Requirement already satisfied: nltk in /usr/local/lib/python3.10/dist-packages (from sentence_transformers) (3.8.1)\n",
            "Collecting sentencepiece (from sentence_transformers)\n",
            "  Downloading sentencepiece-0.1.99-cp310-cp310-manylinux_2_17_x86_64.manylinux2014_x86_64.whl (1.3 MB)\n",
            "\u001b[2K     \u001b[90m━━━━━━━━━━━━━━━━━━━━━━━━━━━━━━━━━━━━━━━━\u001b[0m \u001b[32m1.3/1.3 MB\u001b[0m \u001b[31m11.9 MB/s\u001b[0m eta \u001b[36m0:00:00\u001b[0m\n",
            "\u001b[?25hRequirement already satisfied: huggingface-hub>=0.4.0 in /usr/local/lib/python3.10/dist-packages (from sentence_transformers) (0.19.4)\n",
            "Requirement already satisfied: filelock in /usr/local/lib/python3.10/dist-packages (from huggingface-hub>=0.4.0->sentence_transformers) (3.13.1)\n",
            "Requirement already satisfied: fsspec>=2023.5.0 in /usr/local/lib/python3.10/dist-packages (from huggingface-hub>=0.4.0->sentence_transformers) (2023.6.0)\n",
            "Requirement already satisfied: requests in /usr/local/lib/python3.10/dist-packages (from huggingface-hub>=0.4.0->sentence_transformers) (2.31.0)\n",
            "Requirement already satisfied: pyyaml>=5.1 in /usr/local/lib/python3.10/dist-packages (from huggingface-hub>=0.4.0->sentence_transformers) (6.0.1)\n",
            "Requirement already satisfied: typing-extensions>=3.7.4.3 in /usr/local/lib/python3.10/dist-packages (from huggingface-hub>=0.4.0->sentence_transformers) (4.5.0)\n",
            "Requirement already satisfied: packaging>=20.9 in /usr/local/lib/python3.10/dist-packages (from huggingface-hub>=0.4.0->sentence_transformers) (23.2)\n",
            "Requirement already satisfied: sympy in /usr/local/lib/python3.10/dist-packages (from torch>=1.6.0->sentence_transformers) (1.12)\n",
            "Requirement already satisfied: networkx in /usr/local/lib/python3.10/dist-packages (from torch>=1.6.0->sentence_transformers) (3.2.1)\n",
            "Requirement already satisfied: jinja2 in /usr/local/lib/python3.10/dist-packages (from torch>=1.6.0->sentence_transformers) (3.1.2)\n",
            "Requirement already satisfied: triton==2.1.0 in /usr/local/lib/python3.10/dist-packages (from torch>=1.6.0->sentence_transformers) (2.1.0)\n",
            "Requirement already satisfied: regex!=2019.12.17 in /usr/local/lib/python3.10/dist-packages (from transformers<5.0.0,>=4.6.0->sentence_transformers) (2023.6.3)\n",
            "Requirement already satisfied: tokenizers<0.19,>=0.14 in /usr/local/lib/python3.10/dist-packages (from transformers<5.0.0,>=4.6.0->sentence_transformers) (0.15.0)\n",
            "Requirement already satisfied: safetensors>=0.3.1 in /usr/local/lib/python3.10/dist-packages (from transformers<5.0.0,>=4.6.0->sentence_transformers) (0.4.1)\n",
            "Requirement already satisfied: click in /usr/local/lib/python3.10/dist-packages (from nltk->sentence_transformers) (8.1.7)\n",
            "Requirement already satisfied: joblib in /usr/local/lib/python3.10/dist-packages (from nltk->sentence_transformers) (1.3.2)\n",
            "Requirement already satisfied: threadpoolctl>=2.0.0 in /usr/local/lib/python3.10/dist-packages (from scikit-learn->sentence_transformers) (3.2.0)\n",
            "Requirement already satisfied: pillow!=8.3.*,>=5.3.0 in /usr/local/lib/python3.10/dist-packages (from torchvision->sentence_transformers) (9.4.0)\n",
            "Requirement already satisfied: MarkupSafe>=2.0 in /usr/local/lib/python3.10/dist-packages (from jinja2->torch>=1.6.0->sentence_transformers) (2.1.3)\n",
            "Requirement already satisfied: charset-normalizer<4,>=2 in /usr/local/lib/python3.10/dist-packages (from requests->huggingface-hub>=0.4.0->sentence_transformers) (3.3.2)\n",
            "Requirement already satisfied: idna<4,>=2.5 in /usr/local/lib/python3.10/dist-packages (from requests->huggingface-hub>=0.4.0->sentence_transformers) (3.6)\n",
            "Requirement already satisfied: urllib3<3,>=1.21.1 in /usr/local/lib/python3.10/dist-packages (from requests->huggingface-hub>=0.4.0->sentence_transformers) (2.0.7)\n",
            "Requirement already satisfied: certifi>=2017.4.17 in /usr/local/lib/python3.10/dist-packages (from requests->huggingface-hub>=0.4.0->sentence_transformers) (2023.11.17)\n",
            "Requirement already satisfied: mpmath>=0.19 in /usr/local/lib/python3.10/dist-packages (from sympy->torch>=1.6.0->sentence_transformers) (1.3.0)\n",
            "Building wheels for collected packages: sentence_transformers\n",
            "  Building wheel for sentence_transformers (setup.py) ... \u001b[?25l\u001b[?25hdone\n",
            "  Created wheel for sentence_transformers: filename=sentence_transformers-2.2.2-py3-none-any.whl size=125923 sha256=904bf87f285c1db82b2924f4116e58699f5576deee19c6b9598223fc4a4e777f\n",
            "  Stored in directory: /root/.cache/pip/wheels/62/f2/10/1e606fd5f02395388f74e7462910fe851042f97238cbbd902f\n",
            "Successfully built sentence_transformers\n",
            "Installing collected packages: sentencepiece, sentence_transformers\n",
            "Successfully installed sentence_transformers-2.2.2 sentencepiece-0.1.99\n"
          ]
        }
      ]
    },
    {
      "cell_type": "code",
      "source": [
        "from sentence_transformers import SentenceTransformer\n",
        "modelmpnet = SentenceTransformer('sentence-transformers/paraphrase-multilingual-mpnet-base-v2')"
      ],
      "metadata": {
        "id": "MTLYVX8mvAwD"
      },
      "execution_count": 61,
      "outputs": []
    },
    {
      "cell_type": "code",
      "source": [
        "import pandas as pd\n",
        "master = pd.read_csv(\"UASDataset_3bulan.csv\")\n",
        "master[\"clean_final\"] = data\n",
        "master"
      ],
      "metadata": {
        "colab": {
          "base_uri": "https://localhost:8080/",
          "height": 874
        },
        "id": "f8-UpIgIv0xl",
        "outputId": "a5cbfdb3-3a6f-476b-88e0-17b9a4142de9"
      },
      "execution_count": 62,
      "outputs": [
        {
          "output_type": "execute_result",
          "data": {
            "text/plain": [
              "       Unnamed: 0     Tanggal Kategori Umum Kategori Khusus  \\\n",
              "0               0  2023-08-01        Market       Komoditas   \n",
              "1               1  2023-08-01     Finansial    Multifinance   \n",
              "2               2  2023-08-01     Finansial       Perbankan   \n",
              "3               3  2023-08-01     Finansial        Asuransi   \n",
              "4               4  2023-08-01        Market       Korporasi   \n",
              "...           ...         ...           ...             ...   \n",
              "10100       10100  2023-10-31     Finansial        Asuransi   \n",
              "10101       10101  2023-10-31        Market   Bursa & saham   \n",
              "10102       10102  2023-10-31     Finansial       Perbankan   \n",
              "10103       10103  2023-10-31     Finansial       Perbankan   \n",
              "10104       10104  2023-10-31     Finansial    Multifinance   \n",
              "\n",
              "                                                   Judul  \\\n",
              "0      Bursa Kripto CFX Janjikan Transaksi Kripto yan...   \n",
              "1      Kabar Terbaru dari OJK soal Asing Jadi Strateg...   \n",
              "2      Viral Hilang Akses ke Layanan BCA, Manajemen I...   \n",
              "3      Laba Semester I/2023 Capai Rp7,61 Miliar, Asur...   \n",
              "4      Semen Indonesia (SMGR) Raih Pendapatan Rp17 Tr...   \n",
              "...                                                  ...   \n",
              "10100  Cairkan Dana Pensiun di Taspen, Ini Syarat dan...   \n",
              "10101  Indeks Bisnis-27 Ditutup Lesu, Saham INKP, UNT...   \n",
              "10102  Bank Milik Taipan Tahir (MAYA) Raup Laba Bersi...   \n",
              "10103  Laba Bersih Bank Permata (BNLI) Rp2,14 Triliun...   \n",
              "10104  WOM Finance (WOMF) Revisi Target Pembiayaan Mo...   \n",
              "\n",
              "                                                    Teks  \\\n",
              "0      Bisnis.com, JAKARTA - PT Bursa Komoditi Nusant...   \n",
              "1      Bisnis.com, JAKARTA — Otoritas Jasa Keuangan (...   \n",
              "2      Bisnis.com, JAKARTA - Isu tentang hilangnya ak...   \n",
              "3      Bisnis.com, JAKARTA— Perusahaan asuransi umum ...   \n",
              "4      Bisnis.com, JAKARTA – Emiten pelat merah PT Se...   \n",
              "...                                                  ...   \n",
              "10100  Bisnis.com, JAKARTA –– Pemerintah menyelenggar...   \n",
              "10101  Bisnis.com, JAKARTA - Indeks Bisnis-27 terpant...   \n",
              "10102  Bisnis.com, JAKARTA - PT Bank Mayapada Interna...   \n",
              "10103  Bisnis.com, JAKARTA -- PT Bank Permata Tbk. (B...   \n",
              "10104  Bisnis.com, JAKARTA — Perusahaan pembiayaan PT...   \n",
              "\n",
              "                                             clean_final  \n",
              "0      bursa kripto cfx janji transaksi kripto transp...  \n",
              "1      kabar baru ojk asing strategic investor leasin...  \n",
              "2      viral hilang akses layan bca  manajemen ingat ...  \n",
              "3      laba semester i capai rp  miliar  asuransi cak...  \n",
              "4      semen indonesia smgr raih dapat rp triliun sem...  \n",
              "...                                                  ...  \n",
              "10100  cair dana pensiun taspen  syarat bisnis com  j...  \n",
              "10101  indeks bisnis  tutup lesu  saham inkp  untr ak...  \n",
              "10102  bank milik taipan tahir maya raup laba bersih ...  \n",
              "10103  laba bersih bank permata bnli rp  triliun sept...  \n",
              "10104  wom finance womf revisi target biaya motor lis...  \n",
              "\n",
              "[10105 rows x 7 columns]"
            ],
            "text/html": [
              "\n",
              "  <div id=\"df-698234a7-0913-4688-a9ad-58c1b9f7bc6b\" class=\"colab-df-container\">\n",
              "    <div>\n",
              "<style scoped>\n",
              "    .dataframe tbody tr th:only-of-type {\n",
              "        vertical-align: middle;\n",
              "    }\n",
              "\n",
              "    .dataframe tbody tr th {\n",
              "        vertical-align: top;\n",
              "    }\n",
              "\n",
              "    .dataframe thead th {\n",
              "        text-align: right;\n",
              "    }\n",
              "</style>\n",
              "<table border=\"1\" class=\"dataframe\">\n",
              "  <thead>\n",
              "    <tr style=\"text-align: right;\">\n",
              "      <th></th>\n",
              "      <th>Unnamed: 0</th>\n",
              "      <th>Tanggal</th>\n",
              "      <th>Kategori Umum</th>\n",
              "      <th>Kategori Khusus</th>\n",
              "      <th>Judul</th>\n",
              "      <th>Teks</th>\n",
              "      <th>clean_final</th>\n",
              "    </tr>\n",
              "  </thead>\n",
              "  <tbody>\n",
              "    <tr>\n",
              "      <th>0</th>\n",
              "      <td>0</td>\n",
              "      <td>2023-08-01</td>\n",
              "      <td>Market</td>\n",
              "      <td>Komoditas</td>\n",
              "      <td>Bursa Kripto CFX Janjikan Transaksi Kripto yan...</td>\n",
              "      <td>Bisnis.com, JAKARTA - PT Bursa Komoditi Nusant...</td>\n",
              "      <td>bursa kripto cfx janji transaksi kripto transp...</td>\n",
              "    </tr>\n",
              "    <tr>\n",
              "      <th>1</th>\n",
              "      <td>1</td>\n",
              "      <td>2023-08-01</td>\n",
              "      <td>Finansial</td>\n",
              "      <td>Multifinance</td>\n",
              "      <td>Kabar Terbaru dari OJK soal Asing Jadi Strateg...</td>\n",
              "      <td>Bisnis.com, JAKARTA — Otoritas Jasa Keuangan (...</td>\n",
              "      <td>kabar baru ojk asing strategic investor leasin...</td>\n",
              "    </tr>\n",
              "    <tr>\n",
              "      <th>2</th>\n",
              "      <td>2</td>\n",
              "      <td>2023-08-01</td>\n",
              "      <td>Finansial</td>\n",
              "      <td>Perbankan</td>\n",
              "      <td>Viral Hilang Akses ke Layanan BCA, Manajemen I...</td>\n",
              "      <td>Bisnis.com, JAKARTA - Isu tentang hilangnya ak...</td>\n",
              "      <td>viral hilang akses layan bca  manajemen ingat ...</td>\n",
              "    </tr>\n",
              "    <tr>\n",
              "      <th>3</th>\n",
              "      <td>3</td>\n",
              "      <td>2023-08-01</td>\n",
              "      <td>Finansial</td>\n",
              "      <td>Asuransi</td>\n",
              "      <td>Laba Semester I/2023 Capai Rp7,61 Miliar, Asur...</td>\n",
              "      <td>Bisnis.com, JAKARTA— Perusahaan asuransi umum ...</td>\n",
              "      <td>laba semester i capai rp  miliar  asuransi cak...</td>\n",
              "    </tr>\n",
              "    <tr>\n",
              "      <th>4</th>\n",
              "      <td>4</td>\n",
              "      <td>2023-08-01</td>\n",
              "      <td>Market</td>\n",
              "      <td>Korporasi</td>\n",
              "      <td>Semen Indonesia (SMGR) Raih Pendapatan Rp17 Tr...</td>\n",
              "      <td>Bisnis.com, JAKARTA – Emiten pelat merah PT Se...</td>\n",
              "      <td>semen indonesia smgr raih dapat rp triliun sem...</td>\n",
              "    </tr>\n",
              "    <tr>\n",
              "      <th>...</th>\n",
              "      <td>...</td>\n",
              "      <td>...</td>\n",
              "      <td>...</td>\n",
              "      <td>...</td>\n",
              "      <td>...</td>\n",
              "      <td>...</td>\n",
              "      <td>...</td>\n",
              "    </tr>\n",
              "    <tr>\n",
              "      <th>10100</th>\n",
              "      <td>10100</td>\n",
              "      <td>2023-10-31</td>\n",
              "      <td>Finansial</td>\n",
              "      <td>Asuransi</td>\n",
              "      <td>Cairkan Dana Pensiun di Taspen, Ini Syarat dan...</td>\n",
              "      <td>Bisnis.com, JAKARTA –– Pemerintah menyelenggar...</td>\n",
              "      <td>cair dana pensiun taspen  syarat bisnis com  j...</td>\n",
              "    </tr>\n",
              "    <tr>\n",
              "      <th>10101</th>\n",
              "      <td>10101</td>\n",
              "      <td>2023-10-31</td>\n",
              "      <td>Market</td>\n",
              "      <td>Bursa &amp; saham</td>\n",
              "      <td>Indeks Bisnis-27 Ditutup Lesu, Saham INKP, UNT...</td>\n",
              "      <td>Bisnis.com, JAKARTA - Indeks Bisnis-27 terpant...</td>\n",
              "      <td>indeks bisnis  tutup lesu  saham inkp  untr ak...</td>\n",
              "    </tr>\n",
              "    <tr>\n",
              "      <th>10102</th>\n",
              "      <td>10102</td>\n",
              "      <td>2023-10-31</td>\n",
              "      <td>Finansial</td>\n",
              "      <td>Perbankan</td>\n",
              "      <td>Bank Milik Taipan Tahir (MAYA) Raup Laba Bersi...</td>\n",
              "      <td>Bisnis.com, JAKARTA - PT Bank Mayapada Interna...</td>\n",
              "      <td>bank milik taipan tahir maya raup laba bersih ...</td>\n",
              "    </tr>\n",
              "    <tr>\n",
              "      <th>10103</th>\n",
              "      <td>10103</td>\n",
              "      <td>2023-10-31</td>\n",
              "      <td>Finansial</td>\n",
              "      <td>Perbankan</td>\n",
              "      <td>Laba Bersih Bank Permata (BNLI) Rp2,14 Triliun...</td>\n",
              "      <td>Bisnis.com, JAKARTA -- PT Bank Permata Tbk. (B...</td>\n",
              "      <td>laba bersih bank permata bnli rp  triliun sept...</td>\n",
              "    </tr>\n",
              "    <tr>\n",
              "      <th>10104</th>\n",
              "      <td>10104</td>\n",
              "      <td>2023-10-31</td>\n",
              "      <td>Finansial</td>\n",
              "      <td>Multifinance</td>\n",
              "      <td>WOM Finance (WOMF) Revisi Target Pembiayaan Mo...</td>\n",
              "      <td>Bisnis.com, JAKARTA — Perusahaan pembiayaan PT...</td>\n",
              "      <td>wom finance womf revisi target biaya motor lis...</td>\n",
              "    </tr>\n",
              "  </tbody>\n",
              "</table>\n",
              "<p>10105 rows × 7 columns</p>\n",
              "</div>\n",
              "    <div class=\"colab-df-buttons\">\n",
              "\n",
              "  <div class=\"colab-df-container\">\n",
              "    <button class=\"colab-df-convert\" onclick=\"convertToInteractive('df-698234a7-0913-4688-a9ad-58c1b9f7bc6b')\"\n",
              "            title=\"Convert this dataframe to an interactive table.\"\n",
              "            style=\"display:none;\">\n",
              "\n",
              "  <svg xmlns=\"http://www.w3.org/2000/svg\" height=\"24px\" viewBox=\"0 -960 960 960\">\n",
              "    <path d=\"M120-120v-720h720v720H120Zm60-500h600v-160H180v160Zm220 220h160v-160H400v160Zm0 220h160v-160H400v160ZM180-400h160v-160H180v160Zm440 0h160v-160H620v160ZM180-180h160v-160H180v160Zm440 0h160v-160H620v160Z\"/>\n",
              "  </svg>\n",
              "    </button>\n",
              "\n",
              "  <style>\n",
              "    .colab-df-container {\n",
              "      display:flex;\n",
              "      gap: 12px;\n",
              "    }\n",
              "\n",
              "    .colab-df-convert {\n",
              "      background-color: #E8F0FE;\n",
              "      border: none;\n",
              "      border-radius: 50%;\n",
              "      cursor: pointer;\n",
              "      display: none;\n",
              "      fill: #1967D2;\n",
              "      height: 32px;\n",
              "      padding: 0 0 0 0;\n",
              "      width: 32px;\n",
              "    }\n",
              "\n",
              "    .colab-df-convert:hover {\n",
              "      background-color: #E2EBFA;\n",
              "      box-shadow: 0px 1px 2px rgba(60, 64, 67, 0.3), 0px 1px 3px 1px rgba(60, 64, 67, 0.15);\n",
              "      fill: #174EA6;\n",
              "    }\n",
              "\n",
              "    .colab-df-buttons div {\n",
              "      margin-bottom: 4px;\n",
              "    }\n",
              "\n",
              "    [theme=dark] .colab-df-convert {\n",
              "      background-color: #3B4455;\n",
              "      fill: #D2E3FC;\n",
              "    }\n",
              "\n",
              "    [theme=dark] .colab-df-convert:hover {\n",
              "      background-color: #434B5C;\n",
              "      box-shadow: 0px 1px 3px 1px rgba(0, 0, 0, 0.15);\n",
              "      filter: drop-shadow(0px 1px 2px rgba(0, 0, 0, 0.3));\n",
              "      fill: #FFFFFF;\n",
              "    }\n",
              "  </style>\n",
              "\n",
              "    <script>\n",
              "      const buttonEl =\n",
              "        document.querySelector('#df-698234a7-0913-4688-a9ad-58c1b9f7bc6b button.colab-df-convert');\n",
              "      buttonEl.style.display =\n",
              "        google.colab.kernel.accessAllowed ? 'block' : 'none';\n",
              "\n",
              "      async function convertToInteractive(key) {\n",
              "        const element = document.querySelector('#df-698234a7-0913-4688-a9ad-58c1b9f7bc6b');\n",
              "        const dataTable =\n",
              "          await google.colab.kernel.invokeFunction('convertToInteractive',\n",
              "                                                    [key], {});\n",
              "        if (!dataTable) return;\n",
              "\n",
              "        const docLinkHtml = 'Like what you see? Visit the ' +\n",
              "          '<a target=\"_blank\" href=https://colab.research.google.com/notebooks/data_table.ipynb>data table notebook</a>'\n",
              "          + ' to learn more about interactive tables.';\n",
              "        element.innerHTML = '';\n",
              "        dataTable['output_type'] = 'display_data';\n",
              "        await google.colab.output.renderOutput(dataTable, element);\n",
              "        const docLink = document.createElement('div');\n",
              "        docLink.innerHTML = docLinkHtml;\n",
              "        element.appendChild(docLink);\n",
              "      }\n",
              "    </script>\n",
              "  </div>\n",
              "\n",
              "\n",
              "<div id=\"df-36534cc7-5b61-427c-96ac-626c97008dfa\">\n",
              "  <button class=\"colab-df-quickchart\" onclick=\"quickchart('df-36534cc7-5b61-427c-96ac-626c97008dfa')\"\n",
              "            title=\"Suggest charts\"\n",
              "            style=\"display:none;\">\n",
              "\n",
              "<svg xmlns=\"http://www.w3.org/2000/svg\" height=\"24px\"viewBox=\"0 0 24 24\"\n",
              "     width=\"24px\">\n",
              "    <g>\n",
              "        <path d=\"M19 3H5c-1.1 0-2 .9-2 2v14c0 1.1.9 2 2 2h14c1.1 0 2-.9 2-2V5c0-1.1-.9-2-2-2zM9 17H7v-7h2v7zm4 0h-2V7h2v10zm4 0h-2v-4h2v4z\"/>\n",
              "    </g>\n",
              "</svg>\n",
              "  </button>\n",
              "\n",
              "<style>\n",
              "  .colab-df-quickchart {\n",
              "      --bg-color: #E8F0FE;\n",
              "      --fill-color: #1967D2;\n",
              "      --hover-bg-color: #E2EBFA;\n",
              "      --hover-fill-color: #174EA6;\n",
              "      --disabled-fill-color: #AAA;\n",
              "      --disabled-bg-color: #DDD;\n",
              "  }\n",
              "\n",
              "  [theme=dark] .colab-df-quickchart {\n",
              "      --bg-color: #3B4455;\n",
              "      --fill-color: #D2E3FC;\n",
              "      --hover-bg-color: #434B5C;\n",
              "      --hover-fill-color: #FFFFFF;\n",
              "      --disabled-bg-color: #3B4455;\n",
              "      --disabled-fill-color: #666;\n",
              "  }\n",
              "\n",
              "  .colab-df-quickchart {\n",
              "    background-color: var(--bg-color);\n",
              "    border: none;\n",
              "    border-radius: 50%;\n",
              "    cursor: pointer;\n",
              "    display: none;\n",
              "    fill: var(--fill-color);\n",
              "    height: 32px;\n",
              "    padding: 0;\n",
              "    width: 32px;\n",
              "  }\n",
              "\n",
              "  .colab-df-quickchart:hover {\n",
              "    background-color: var(--hover-bg-color);\n",
              "    box-shadow: 0 1px 2px rgba(60, 64, 67, 0.3), 0 1px 3px 1px rgba(60, 64, 67, 0.15);\n",
              "    fill: var(--button-hover-fill-color);\n",
              "  }\n",
              "\n",
              "  .colab-df-quickchart-complete:disabled,\n",
              "  .colab-df-quickchart-complete:disabled:hover {\n",
              "    background-color: var(--disabled-bg-color);\n",
              "    fill: var(--disabled-fill-color);\n",
              "    box-shadow: none;\n",
              "  }\n",
              "\n",
              "  .colab-df-spinner {\n",
              "    border: 2px solid var(--fill-color);\n",
              "    border-color: transparent;\n",
              "    border-bottom-color: var(--fill-color);\n",
              "    animation:\n",
              "      spin 1s steps(1) infinite;\n",
              "  }\n",
              "\n",
              "  @keyframes spin {\n",
              "    0% {\n",
              "      border-color: transparent;\n",
              "      border-bottom-color: var(--fill-color);\n",
              "      border-left-color: var(--fill-color);\n",
              "    }\n",
              "    20% {\n",
              "      border-color: transparent;\n",
              "      border-left-color: var(--fill-color);\n",
              "      border-top-color: var(--fill-color);\n",
              "    }\n",
              "    30% {\n",
              "      border-color: transparent;\n",
              "      border-left-color: var(--fill-color);\n",
              "      border-top-color: var(--fill-color);\n",
              "      border-right-color: var(--fill-color);\n",
              "    }\n",
              "    40% {\n",
              "      border-color: transparent;\n",
              "      border-right-color: var(--fill-color);\n",
              "      border-top-color: var(--fill-color);\n",
              "    }\n",
              "    60% {\n",
              "      border-color: transparent;\n",
              "      border-right-color: var(--fill-color);\n",
              "    }\n",
              "    80% {\n",
              "      border-color: transparent;\n",
              "      border-right-color: var(--fill-color);\n",
              "      border-bottom-color: var(--fill-color);\n",
              "    }\n",
              "    90% {\n",
              "      border-color: transparent;\n",
              "      border-bottom-color: var(--fill-color);\n",
              "    }\n",
              "  }\n",
              "</style>\n",
              "\n",
              "  <script>\n",
              "    async function quickchart(key) {\n",
              "      const quickchartButtonEl =\n",
              "        document.querySelector('#' + key + ' button');\n",
              "      quickchartButtonEl.disabled = true;  // To prevent multiple clicks.\n",
              "      quickchartButtonEl.classList.add('colab-df-spinner');\n",
              "      try {\n",
              "        const charts = await google.colab.kernel.invokeFunction(\n",
              "            'suggestCharts', [key], {});\n",
              "      } catch (error) {\n",
              "        console.error('Error during call to suggestCharts:', error);\n",
              "      }\n",
              "      quickchartButtonEl.classList.remove('colab-df-spinner');\n",
              "      quickchartButtonEl.classList.add('colab-df-quickchart-complete');\n",
              "    }\n",
              "    (() => {\n",
              "      let quickchartButtonEl =\n",
              "        document.querySelector('#df-36534cc7-5b61-427c-96ac-626c97008dfa button');\n",
              "      quickchartButtonEl.style.display =\n",
              "        google.colab.kernel.accessAllowed ? 'block' : 'none';\n",
              "    })();\n",
              "  </script>\n",
              "</div>\n",
              "    </div>\n",
              "  </div>\n"
            ]
          },
          "metadata": {},
          "execution_count": 62
        }
      ]
    },
    {
      "cell_type": "code",
      "source": [
        "query = \"rupiah melemah\"\n",
        "corpus_embeddings = np.load('/content/corpus_dense_embeddings_all_data_ordered.npy')\n",
        "query_embeddings = modelmpnet.encode(query)\n",
        "\n",
        "rank = cosine_similarity([query_embeddings], corpus_embeddings)\n",
        "rank_dict = {i: rank[0, i] for i in range(len(rank[0]))}\n",
        "\n",
        "dense_rank = dict(sorted(rank_dict.items(), key=lambda item: item[1], reverse=True))\n",
        "\n",
        "corpus_id = list(dense_rank.keys())\n",
        "result = []\n",
        "for id in corpus_id[:30]:\n",
        "    result.append(master['Judul'][id])"
      ],
      "metadata": {
        "id": "CtOzW7qplZau"
      },
      "execution_count": 63,
      "outputs": []
    },
    {
      "cell_type": "code",
      "source": [
        "eval_query = pd.read_excel('/content/UAS_valuation_NLP.xlsx')\n",
        "eval_query.reset_index(inplace=True)"
      ],
      "metadata": {
        "id": "bZL-5Rl3_vZ9"
      },
      "execution_count": 64,
      "outputs": []
    },
    {
      "cell_type": "code",
      "source": [
        "eval_query"
      ],
      "metadata": {
        "colab": {
          "base_uri": "https://localhost:8080/",
          "height": 551
        },
        "id": "hhx2ThrhL7q8",
        "outputId": "04cddbe5-d85b-42e4-8dd8-9a23d04f6742"
      },
      "execution_count": 65,
      "outputs": [
        {
          "output_type": "execute_result",
          "data": {
            "text/plain": [
              "    index  no                                 query  \\\n",
              "0       0   1                              RUU APBN   \n",
              "1       1   2                         krisis pangan   \n",
              "2       2   3                ekspor impor pertanian   \n",
              "3       3   4                      Penerimaan pajak   \n",
              "4       4   5                       Saham Goto naik   \n",
              "5       5   6                Bisnis Ekonomi Syariah   \n",
              "6       6   7                         investasi IKN   \n",
              "7       7   8                        rupiah melemah   \n",
              "8       8   9               tarif saldo lrt jakarta   \n",
              "9       9  10         bank dki pembayaran non tunai   \n",
              "10     10  11  garuda penerbangan bandara kertajati   \n",
              "11     11  12               hilirisasi kereta cepat   \n",
              "12     12  13            modal investasi pariwisata   \n",
              "13     13  14              peran ojk dalam asuransi   \n",
              "14     14  15               rekomendasi bisnis ayam   \n",
              "15     15  16                          pajak karbon   \n",
              "\n",
              "                                             id_query  \n",
              "0                                   767,765,5224,1425  \n",
              "1   568,806,756,1144,1930,4144,2737,9577,9027,9282...  \n",
              "2                                      3377,1287,1282  \n",
              "3             1423,5234,1486,2825,2916,2925,5335,6024  \n",
              "4                                      1370,4790,1026  \n",
              "5   2971,4522,4539,5166,5979,6676,6826,6943,7750,9...  \n",
              "6                       1500,4151,4225,4348,6143,6143  \n",
              "7   29,64,124,553,728,968,1163,1213,1222,1232,1269...  \n",
              "8                       3108,3302,2492,9804,2511,7946  \n",
              "9                       3302,3446,6231,2492,2693,2819  \n",
              "10                   1196,5645,622,646,992,1159,4243   \n",
              "11  3724,3722,4056,4050,4039,7447,8577,3712,3743,3750  \n",
              "12       4375,4655,4746,5029,6269,4187,3848,3905,9224  \n",
              "13  246,318,331,332,2317,7986,7988,7989,8902,9496,...  \n",
              "14                                 974,1879,3203,9829  \n",
              "15  6282,6041,1308,7424,9236,1612,5330,565,1520,59...  "
            ],
            "text/html": [
              "\n",
              "  <div id=\"df-13a05ea0-6e03-4fef-bb27-5b696239bea0\" class=\"colab-df-container\">\n",
              "    <div>\n",
              "<style scoped>\n",
              "    .dataframe tbody tr th:only-of-type {\n",
              "        vertical-align: middle;\n",
              "    }\n",
              "\n",
              "    .dataframe tbody tr th {\n",
              "        vertical-align: top;\n",
              "    }\n",
              "\n",
              "    .dataframe thead th {\n",
              "        text-align: right;\n",
              "    }\n",
              "</style>\n",
              "<table border=\"1\" class=\"dataframe\">\n",
              "  <thead>\n",
              "    <tr style=\"text-align: right;\">\n",
              "      <th></th>\n",
              "      <th>index</th>\n",
              "      <th>no</th>\n",
              "      <th>query</th>\n",
              "      <th>id_query</th>\n",
              "    </tr>\n",
              "  </thead>\n",
              "  <tbody>\n",
              "    <tr>\n",
              "      <th>0</th>\n",
              "      <td>0</td>\n",
              "      <td>1</td>\n",
              "      <td>RUU APBN</td>\n",
              "      <td>767,765,5224,1425</td>\n",
              "    </tr>\n",
              "    <tr>\n",
              "      <th>1</th>\n",
              "      <td>1</td>\n",
              "      <td>2</td>\n",
              "      <td>krisis pangan</td>\n",
              "      <td>568,806,756,1144,1930,4144,2737,9577,9027,9282...</td>\n",
              "    </tr>\n",
              "    <tr>\n",
              "      <th>2</th>\n",
              "      <td>2</td>\n",
              "      <td>3</td>\n",
              "      <td>ekspor impor pertanian</td>\n",
              "      <td>3377,1287,1282</td>\n",
              "    </tr>\n",
              "    <tr>\n",
              "      <th>3</th>\n",
              "      <td>3</td>\n",
              "      <td>4</td>\n",
              "      <td>Penerimaan pajak</td>\n",
              "      <td>1423,5234,1486,2825,2916,2925,5335,6024</td>\n",
              "    </tr>\n",
              "    <tr>\n",
              "      <th>4</th>\n",
              "      <td>4</td>\n",
              "      <td>5</td>\n",
              "      <td>Saham Goto naik</td>\n",
              "      <td>1370,4790,1026</td>\n",
              "    </tr>\n",
              "    <tr>\n",
              "      <th>5</th>\n",
              "      <td>5</td>\n",
              "      <td>6</td>\n",
              "      <td>Bisnis Ekonomi Syariah</td>\n",
              "      <td>2971,4522,4539,5166,5979,6676,6826,6943,7750,9...</td>\n",
              "    </tr>\n",
              "    <tr>\n",
              "      <th>6</th>\n",
              "      <td>6</td>\n",
              "      <td>7</td>\n",
              "      <td>investasi IKN</td>\n",
              "      <td>1500,4151,4225,4348,6143,6143</td>\n",
              "    </tr>\n",
              "    <tr>\n",
              "      <th>7</th>\n",
              "      <td>7</td>\n",
              "      <td>8</td>\n",
              "      <td>rupiah melemah</td>\n",
              "      <td>29,64,124,553,728,968,1163,1213,1222,1232,1269...</td>\n",
              "    </tr>\n",
              "    <tr>\n",
              "      <th>8</th>\n",
              "      <td>8</td>\n",
              "      <td>9</td>\n",
              "      <td>tarif saldo lrt jakarta</td>\n",
              "      <td>3108,3302,2492,9804,2511,7946</td>\n",
              "    </tr>\n",
              "    <tr>\n",
              "      <th>9</th>\n",
              "      <td>9</td>\n",
              "      <td>10</td>\n",
              "      <td>bank dki pembayaran non tunai</td>\n",
              "      <td>3302,3446,6231,2492,2693,2819</td>\n",
              "    </tr>\n",
              "    <tr>\n",
              "      <th>10</th>\n",
              "      <td>10</td>\n",
              "      <td>11</td>\n",
              "      <td>garuda penerbangan bandara kertajati</td>\n",
              "      <td>1196,5645,622,646,992,1159,4243</td>\n",
              "    </tr>\n",
              "    <tr>\n",
              "      <th>11</th>\n",
              "      <td>11</td>\n",
              "      <td>12</td>\n",
              "      <td>hilirisasi kereta cepat</td>\n",
              "      <td>3724,3722,4056,4050,4039,7447,8577,3712,3743,3750</td>\n",
              "    </tr>\n",
              "    <tr>\n",
              "      <th>12</th>\n",
              "      <td>12</td>\n",
              "      <td>13</td>\n",
              "      <td>modal investasi pariwisata</td>\n",
              "      <td>4375,4655,4746,5029,6269,4187,3848,3905,9224</td>\n",
              "    </tr>\n",
              "    <tr>\n",
              "      <th>13</th>\n",
              "      <td>13</td>\n",
              "      <td>14</td>\n",
              "      <td>peran ojk dalam asuransi</td>\n",
              "      <td>246,318,331,332,2317,7986,7988,7989,8902,9496,...</td>\n",
              "    </tr>\n",
              "    <tr>\n",
              "      <th>14</th>\n",
              "      <td>14</td>\n",
              "      <td>15</td>\n",
              "      <td>rekomendasi bisnis ayam</td>\n",
              "      <td>974,1879,3203,9829</td>\n",
              "    </tr>\n",
              "    <tr>\n",
              "      <th>15</th>\n",
              "      <td>15</td>\n",
              "      <td>16</td>\n",
              "      <td>pajak karbon</td>\n",
              "      <td>6282,6041,1308,7424,9236,1612,5330,565,1520,59...</td>\n",
              "    </tr>\n",
              "  </tbody>\n",
              "</table>\n",
              "</div>\n",
              "    <div class=\"colab-df-buttons\">\n",
              "\n",
              "  <div class=\"colab-df-container\">\n",
              "    <button class=\"colab-df-convert\" onclick=\"convertToInteractive('df-13a05ea0-6e03-4fef-bb27-5b696239bea0')\"\n",
              "            title=\"Convert this dataframe to an interactive table.\"\n",
              "            style=\"display:none;\">\n",
              "\n",
              "  <svg xmlns=\"http://www.w3.org/2000/svg\" height=\"24px\" viewBox=\"0 -960 960 960\">\n",
              "    <path d=\"M120-120v-720h720v720H120Zm60-500h600v-160H180v160Zm220 220h160v-160H400v160Zm0 220h160v-160H400v160ZM180-400h160v-160H180v160Zm440 0h160v-160H620v160ZM180-180h160v-160H180v160Zm440 0h160v-160H620v160Z\"/>\n",
              "  </svg>\n",
              "    </button>\n",
              "\n",
              "  <style>\n",
              "    .colab-df-container {\n",
              "      display:flex;\n",
              "      gap: 12px;\n",
              "    }\n",
              "\n",
              "    .colab-df-convert {\n",
              "      background-color: #E8F0FE;\n",
              "      border: none;\n",
              "      border-radius: 50%;\n",
              "      cursor: pointer;\n",
              "      display: none;\n",
              "      fill: #1967D2;\n",
              "      height: 32px;\n",
              "      padding: 0 0 0 0;\n",
              "      width: 32px;\n",
              "    }\n",
              "\n",
              "    .colab-df-convert:hover {\n",
              "      background-color: #E2EBFA;\n",
              "      box-shadow: 0px 1px 2px rgba(60, 64, 67, 0.3), 0px 1px 3px 1px rgba(60, 64, 67, 0.15);\n",
              "      fill: #174EA6;\n",
              "    }\n",
              "\n",
              "    .colab-df-buttons div {\n",
              "      margin-bottom: 4px;\n",
              "    }\n",
              "\n",
              "    [theme=dark] .colab-df-convert {\n",
              "      background-color: #3B4455;\n",
              "      fill: #D2E3FC;\n",
              "    }\n",
              "\n",
              "    [theme=dark] .colab-df-convert:hover {\n",
              "      background-color: #434B5C;\n",
              "      box-shadow: 0px 1px 3px 1px rgba(0, 0, 0, 0.15);\n",
              "      filter: drop-shadow(0px 1px 2px rgba(0, 0, 0, 0.3));\n",
              "      fill: #FFFFFF;\n",
              "    }\n",
              "  </style>\n",
              "\n",
              "    <script>\n",
              "      const buttonEl =\n",
              "        document.querySelector('#df-13a05ea0-6e03-4fef-bb27-5b696239bea0 button.colab-df-convert');\n",
              "      buttonEl.style.display =\n",
              "        google.colab.kernel.accessAllowed ? 'block' : 'none';\n",
              "\n",
              "      async function convertToInteractive(key) {\n",
              "        const element = document.querySelector('#df-13a05ea0-6e03-4fef-bb27-5b696239bea0');\n",
              "        const dataTable =\n",
              "          await google.colab.kernel.invokeFunction('convertToInteractive',\n",
              "                                                    [key], {});\n",
              "        if (!dataTable) return;\n",
              "\n",
              "        const docLinkHtml = 'Like what you see? Visit the ' +\n",
              "          '<a target=\"_blank\" href=https://colab.research.google.com/notebooks/data_table.ipynb>data table notebook</a>'\n",
              "          + ' to learn more about interactive tables.';\n",
              "        element.innerHTML = '';\n",
              "        dataTable['output_type'] = 'display_data';\n",
              "        await google.colab.output.renderOutput(dataTable, element);\n",
              "        const docLink = document.createElement('div');\n",
              "        docLink.innerHTML = docLinkHtml;\n",
              "        element.appendChild(docLink);\n",
              "      }\n",
              "    </script>\n",
              "  </div>\n",
              "\n",
              "\n",
              "<div id=\"df-d3155c89-623d-498e-bce9-e0163663d829\">\n",
              "  <button class=\"colab-df-quickchart\" onclick=\"quickchart('df-d3155c89-623d-498e-bce9-e0163663d829')\"\n",
              "            title=\"Suggest charts\"\n",
              "            style=\"display:none;\">\n",
              "\n",
              "<svg xmlns=\"http://www.w3.org/2000/svg\" height=\"24px\"viewBox=\"0 0 24 24\"\n",
              "     width=\"24px\">\n",
              "    <g>\n",
              "        <path d=\"M19 3H5c-1.1 0-2 .9-2 2v14c0 1.1.9 2 2 2h14c1.1 0 2-.9 2-2V5c0-1.1-.9-2-2-2zM9 17H7v-7h2v7zm4 0h-2V7h2v10zm4 0h-2v-4h2v4z\"/>\n",
              "    </g>\n",
              "</svg>\n",
              "  </button>\n",
              "\n",
              "<style>\n",
              "  .colab-df-quickchart {\n",
              "      --bg-color: #E8F0FE;\n",
              "      --fill-color: #1967D2;\n",
              "      --hover-bg-color: #E2EBFA;\n",
              "      --hover-fill-color: #174EA6;\n",
              "      --disabled-fill-color: #AAA;\n",
              "      --disabled-bg-color: #DDD;\n",
              "  }\n",
              "\n",
              "  [theme=dark] .colab-df-quickchart {\n",
              "      --bg-color: #3B4455;\n",
              "      --fill-color: #D2E3FC;\n",
              "      --hover-bg-color: #434B5C;\n",
              "      --hover-fill-color: #FFFFFF;\n",
              "      --disabled-bg-color: #3B4455;\n",
              "      --disabled-fill-color: #666;\n",
              "  }\n",
              "\n",
              "  .colab-df-quickchart {\n",
              "    background-color: var(--bg-color);\n",
              "    border: none;\n",
              "    border-radius: 50%;\n",
              "    cursor: pointer;\n",
              "    display: none;\n",
              "    fill: var(--fill-color);\n",
              "    height: 32px;\n",
              "    padding: 0;\n",
              "    width: 32px;\n",
              "  }\n",
              "\n",
              "  .colab-df-quickchart:hover {\n",
              "    background-color: var(--hover-bg-color);\n",
              "    box-shadow: 0 1px 2px rgba(60, 64, 67, 0.3), 0 1px 3px 1px rgba(60, 64, 67, 0.15);\n",
              "    fill: var(--button-hover-fill-color);\n",
              "  }\n",
              "\n",
              "  .colab-df-quickchart-complete:disabled,\n",
              "  .colab-df-quickchart-complete:disabled:hover {\n",
              "    background-color: var(--disabled-bg-color);\n",
              "    fill: var(--disabled-fill-color);\n",
              "    box-shadow: none;\n",
              "  }\n",
              "\n",
              "  .colab-df-spinner {\n",
              "    border: 2px solid var(--fill-color);\n",
              "    border-color: transparent;\n",
              "    border-bottom-color: var(--fill-color);\n",
              "    animation:\n",
              "      spin 1s steps(1) infinite;\n",
              "  }\n",
              "\n",
              "  @keyframes spin {\n",
              "    0% {\n",
              "      border-color: transparent;\n",
              "      border-bottom-color: var(--fill-color);\n",
              "      border-left-color: var(--fill-color);\n",
              "    }\n",
              "    20% {\n",
              "      border-color: transparent;\n",
              "      border-left-color: var(--fill-color);\n",
              "      border-top-color: var(--fill-color);\n",
              "    }\n",
              "    30% {\n",
              "      border-color: transparent;\n",
              "      border-left-color: var(--fill-color);\n",
              "      border-top-color: var(--fill-color);\n",
              "      border-right-color: var(--fill-color);\n",
              "    }\n",
              "    40% {\n",
              "      border-color: transparent;\n",
              "      border-right-color: var(--fill-color);\n",
              "      border-top-color: var(--fill-color);\n",
              "    }\n",
              "    60% {\n",
              "      border-color: transparent;\n",
              "      border-right-color: var(--fill-color);\n",
              "    }\n",
              "    80% {\n",
              "      border-color: transparent;\n",
              "      border-right-color: var(--fill-color);\n",
              "      border-bottom-color: var(--fill-color);\n",
              "    }\n",
              "    90% {\n",
              "      border-color: transparent;\n",
              "      border-bottom-color: var(--fill-color);\n",
              "    }\n",
              "  }\n",
              "</style>\n",
              "\n",
              "  <script>\n",
              "    async function quickchart(key) {\n",
              "      const quickchartButtonEl =\n",
              "        document.querySelector('#' + key + ' button');\n",
              "      quickchartButtonEl.disabled = true;  // To prevent multiple clicks.\n",
              "      quickchartButtonEl.classList.add('colab-df-spinner');\n",
              "      try {\n",
              "        const charts = await google.colab.kernel.invokeFunction(\n",
              "            'suggestCharts', [key], {});\n",
              "      } catch (error) {\n",
              "        console.error('Error during call to suggestCharts:', error);\n",
              "      }\n",
              "      quickchartButtonEl.classList.remove('colab-df-spinner');\n",
              "      quickchartButtonEl.classList.add('colab-df-quickchart-complete');\n",
              "    }\n",
              "    (() => {\n",
              "      let quickchartButtonEl =\n",
              "        document.querySelector('#df-d3155c89-623d-498e-bce9-e0163663d829 button');\n",
              "      quickchartButtonEl.style.display =\n",
              "        google.colab.kernel.accessAllowed ? 'block' : 'none';\n",
              "    })();\n",
              "  </script>\n",
              "</div>\n",
              "    </div>\n",
              "  </div>\n"
            ]
          },
          "metadata": {},
          "execution_count": 65
        }
      ]
    },
    {
      "cell_type": "code",
      "source": [
        "all_evaluation = []\n",
        "for currq in range(len(eval_query)):\n",
        "  query = eval_query[\"query\"][currq]\n",
        "  list_relevant = eval_query['id_query'][currq].split(\",\")\n",
        "  list_relevant = list(map(str.strip, list_relevant))\n",
        "\n",
        "  corpus_embeddings = np.load('/content/corpus_dense_embeddings_all_data_ordered.npy')\n",
        "  query_embeddings = modelmpnet.encode(query)\n",
        "\n",
        "  rank = cosine_similarity([query_embeddings], corpus_embeddings)\n",
        "  rank_dict = {i: rank[0, i] for i in range(len(rank[0]))}\n",
        "  dense_rank = dict(sorted(rank_dict.items(), key=lambda item: item[1], reverse=True))\n",
        "  corpus_id = list(dense_rank.keys())\n",
        "  id_relevant = corpus[:30]\n",
        "\n",
        "  result_evaluation = {\n",
        "      \"query\" : eval_query[\"query\"][currq]\n",
        "  }\n",
        "\n",
        "  true_doc = 0\n",
        "  for id in id_relevant:\n",
        "    if str(id) in list_relevant:\n",
        "      true_doc +=1\n"
      ],
      "metadata": {
        "id": "FFB0rpxewPyu"
      },
      "execution_count": 80,
      "outputs": []
    },
    {
      "cell_type": "code",
      "source": [
        "def get_evaluation(df, df_query, list_panjang):\n",
        "  id_top30 = []\n",
        "  all_evaluation = []\n",
        "  for i in range(len(df_query)):\n",
        "      current_query = df_query[\"query\"][i]\n",
        "      corpus_embeddings = np.load('/content/corpus_dense_embeddings_all_data_ordered.npy')\n",
        "      query_embeddings = modelmpnet.encode(current_query)\n",
        "\n",
        "      rank = cosine_similarity([query_embeddings], corpus_embeddings)\n",
        "      rank_dict = {i: rank[0, i] for i in range(len(rank[0]))}\n",
        "      dense_rank = dict(sorted(rank_dict.items(), key=lambda item: item[1], reverse=True))\n",
        "      corpus_id = list(dense_rank.keys())\n",
        "\n",
        "      id_relevant = []\n",
        "      for id in corpus_id[:max(list_panjang)]:\n",
        "        id_relevant.append(df.loc[id][\"Unnamed: 0\"])\n",
        "\n",
        "      id_top30.append(id_relevant)\n",
        "      list_relevant1 = df_query[\"id_query\"][i].split(\",\")\n",
        "      list_relevant = list(map(str.strip, list_relevant1))\n",
        "\n",
        "      result_evaluation = {\n",
        "          \"query\" : df_query[\"query\"][i]\n",
        "      }\n",
        "\n",
        "      print(id_relevant)\n",
        "      print(list_relevant)\n",
        "\n",
        "      for j in list_panjang :\n",
        "          true_doc = 0\n",
        "\n",
        "          for id in id_relevant[:j]:\n",
        "            if str(id) in list_relevant:\n",
        "              true_doc += 1\n",
        "\n",
        "          p = true_doc/j\n",
        "          recall = true_doc/len(list_relevant)\n",
        "          result_evaluation[f\"p{j}\"] = p\n",
        "          result_evaluation[f\"r{j}\"] = recall\n",
        "\n",
        "      all_evaluation.append(result_evaluation)\n",
        "\n",
        "      print(result_evaluation)\n",
        "      print(\"======================================================================================\")\n",
        "\n",
        "  return all_evaluation"
      ],
      "metadata": {
        "id": "H84yEyy2EURV"
      },
      "execution_count": 81,
      "outputs": []
    },
    {
      "cell_type": "code",
      "source": [
        "def get_average(evaluation, panjang, type_eval):\n",
        "\n",
        "    if type_eval == \"precision\" :\n",
        "\n",
        "        p_all = []\n",
        "        for i in range(len(evaluation)):\n",
        "            p_all.append(evaluation[i][f\"p{panjang}\"])\n",
        "\n",
        "        rata_rata = sum(p_all) / len(p_all)\n",
        "\n",
        "        # Menampilkan hasil\n",
        "        return rata_rata\n",
        "\n",
        "    elif type_eval == \"recall\" :\n",
        "          recall_all = []\n",
        "          for i in range(len(evaluation)):\n",
        "              recall_all.append(evaluation[i][f\"r{panjang}\"])\n",
        "\n",
        "          rata_rata_recall = sum(recall_all) / len(recall_all)\n",
        "\n",
        "          # Menampilkan hasil\n",
        "          return rata_rata_recall"
      ],
      "metadata": {
        "id": "Ca8m7yZOJt7T"
      },
      "execution_count": 82,
      "outputs": []
    },
    {
      "cell_type": "code",
      "source": [
        "evaluation = get_evaluation(master, eval_query, [30])"
      ],
      "metadata": {
        "colab": {
          "base_uri": "https://localhost:8080/"
        },
        "id": "NliNbMV-J8lG",
        "outputId": "8a16674b-feec-4e52-c7a8-3be52bd96d2a"
      },
      "execution_count": 83,
      "outputs": [
        {
          "output_type": "stream",
          "name": "stdout",
          "text": [
            "[5203, 7020, 5257, 5258, 6703, 1346, 9242, 7064, 1613, 7175, 4667, 5420, 1669, 1967, 1398, 1718, 3989, 4502, 6025, 6110, 1298, 6670, 1434, 2800, 5274, 1940, 7263, 5788, 5220, 3884]\n",
            "['767', '765', '5224', '1425']\n",
            "{'query': 'RUU APBN', 'p30': 0.0, 'r30': 0.0}\n",
            "======================================================================================\n",
            "[1441, 7554, 5226, 1951, 9264, 6965, 7001, 1429, 806, 6465, 2161, 2725, 8986, 3975, 4929, 2165, 606, 7607, 8351, 4546, 5243, 5995, 1774, 7473, 5238, 5292, 7604, 8412, 6165, 2658]\n",
            "['568', '806', '756', '1144', '1930', '4144', '2737', '9577', '9027', '9282', '2482']\n",
            "{'query': 'krisis pangan', 'p30': 0.03333333333333333, 'r30': 0.09090909090909091}\n",
            "======================================================================================\n",
            "[1296, 1299, 4564, 7001, 7604, 8882, 6965, 4658, 1344, 1298, 4485, 9213, 1287, 6002, 2658, 3934, 7865, 1318, 8233, 9642, 5995, 7039, 7746, 603, 4556, 7607, 2895, 9365, 7421, 8258]\n",
            "['3377', '1287', '1282']\n",
            "{'query': 'ekspor impor pertanian', 'p30': 0.03333333333333333, 'r30': 0.3333333333333333}\n",
            "======================================================================================\n",
            "[6110, 5766, 5234, 6126, 8224, 6921, 9563, 6093, 1298, 2122, 2739, 1465, 9162, 6389, 8153, 1346, 985, 9514, 5287, 5203, 3524, 10009, 8222, 9242, 908, 2903, 8155, 5735, 5335, 8162]\n",
            "['1423', '5234', '1486', '2825', '2916', '2925', '5335', '6024']\n",
            "{'query': 'Penerimaan pajak', 'p30': 0.06666666666666667, 'r30': 0.25}\n",
            "======================================================================================\n",
            "[3613, 8041, 8429, 9042, 898, 2838, 696, 8486, 854, 3036, 2711, 8887, 1370, 3289, 507, 8094, 3430, 9056, 4025, 8556, 4053, 7902, 1244, 8395, 1587, 9108, 8090, 8168, 4118, 2872]\n",
            "['1370', '4790', '1026']\n",
            "{'query': 'Saham Goto naik', 'p30': 0.03333333333333333, 'r30': 0.3333333333333333}\n",
            "======================================================================================\n",
            "[1463, 429, 1259, 405, 494, 7567, 1092, 3112, 2329, 2772, 6577, 5117, 4190, 5979, 2335, 9324, 3513, 7750, 6791, 387, 8113, 671, 961, 8582, 621, 6986, 8001, 240, 5127, 4572]\n",
            "['2971', '4522', '4539', '5166', '5979', '6676', '6826', '6943', '7750', '9291', '9324', '9524']\n",
            "{'query': 'Bisnis Ekonomi Syariah', 'p30': 0.1, 'r30': 0.25}\n",
            "======================================================================================\n",
            "[9440, 1982, 7417, 6791, 3842, 2672, 3, 739, 848, 8813, 7678, 5173, 804, 3394, 9978, 1536, 535, 7066, 5127, 387, 3951, 9596, 509, 7812, 2766, 511, 3528, 8686, 5233, 3170]\n",
            "['1500', '4151', '4225', '4348', '6143', '6143']\n",
            "{'query': 'investasi IKN', 'p30': 0.0, 'r30': 0.0}\n",
            "======================================================================================\n",
            "[1600, 2936, 5315, 1592, 719, 124, 9187, 2359, 1012, 6854, 9260, 283, 5492, 9425, 1232, 8695, 1178, 6797, 2642, 6967, 4457, 2331, 3115, 2834, 4685, 7516, 8790, 917, 9638, 5866]\n",
            "['29', '64', '124', '553', '728', '968', '1163', '1213', '1222', '1232', '1269', '1374', '1374', '10065', '8849']\n",
            "{'query': 'rupiah melemah', 'p30': 0.06666666666666667, 'r30': 0.13333333333333333}\n",
            "======================================================================================\n",
            "[1012, 4102, 6847, 2572, 1204, 1448, 7035, 7614, 1350, 1626, 7557, 7525, 2946, 5138, 1536, 3395, 6962, 9167, 5915, 1761, 6967, 1618, 4847, 3468, 1434, 8994, 6470, 5247, 5852, 6646]\n",
            "['3108', '3302', '2492', '9804', '2511', '7946']\n",
            "{'query': 'tarif saldo lrt jakarta', 'p30': 0.0, 'r30': 0.0}\n",
            "======================================================================================\n",
            "[3959, 6823, 851, 5934, 6847, 4445, 6829, 2078, 2438, 3093, 8980, 5992, 7276, 6850, 8907, 4206, 5915, 8862, 3249, 5314, 7548, 6688, 3095, 9841, 4221, 33, 8964, 6558, 383, 9859]\n",
            "['3302', '3446', '6231', '2492', '2693', '2819']\n",
            "{'query': 'bank dki pembayaran non tunai', 'p30': 0.0, 'r30': 0.0}\n",
            "======================================================================================\n",
            "[1145, 9574, 9755, 3493, 3466, 8915, 3484, 1514, 9766, 4183, 5579, 644, 5757, 9000, 1701, 8844, 3495, 5276, 8359, 8883, 5037, 6382, 4351, 8232, 8476, 5706, 9635, 4019, 5090, 9761]\n",
            "['1196', '5645', '622', '646', '992', '1159', '4243']\n",
            "{'query': 'garuda penerbangan bandara kertajati', 'p30': 0.0, 'r30': 0.0}\n",
            "======================================================================================\n",
            "[4486, 7976, 7124, 6727, 9665, 7978, 7814, 4632, 1530, 9327, 9984, 4331, 3047, 8238, 8082, 3887, 3511, 9338, 7819, 3515, 8287, 6734, 5358, 3662, 4670, 1754, 9531, 7921, 4102, 6392]\n",
            "['3724', '3722', '4056', '4050', '4039', '7447', '8577', '3712', '3743', '3750']\n",
            "{'query': 'hilirisasi kereta cepat', 'p30': 0.0, 'r30': 0.0}\n",
            "======================================================================================\n",
            "[5028, 7556, 7358, 561, 1182, 5778, 7366, 1982, 8813, 7455, 8582, 2300, 540, 5766, 6239, 3668, 9224, 1207, 9948, 6263, 3498, 3484, 6499, 2672, 5765, 7077, 2148, 8125, 7614, 1463]\n",
            "['4375', '4655', '4746', '5029', '6269', '4187', '3848', '3905', '9224']\n",
            "{'query': 'modal investasi pariwisata', 'p30': 0.03333333333333333, 'r30': 0.1111111111111111}\n",
            "======================================================================================\n",
            "[7532, 5937, 3101, 4591, 4570, 4987, 7262, 7574, 7988, 9440, 3951, 8902, 3526, 50, 5171, 2546, 9472, 6285, 246, 6194, 7561, 7530, 5876, 7057, 8847, 4165, 5908, 2446, 9739, 8727]\n",
            "['246', '318', '331', '332', '2317', '7986', '7988', '7989', '8902', '9496', '9739', '1706']\n",
            "{'query': 'peran ojk dalam asuransi', 'p30': 0.13333333333333333, 'r30': 0.3333333333333333}\n",
            "======================================================================================\n",
            "[9829, 2512, 23, 3203, 1497, 3014, 6687, 1731, 2801, 1495, 5280, 2678, 1879, 4345, 5702, 5045, 3485, 1640, 2242, 2154, 5985, 7105, 5487, 8137, 1791, 6272, 620, 9095, 3151, 6386]\n",
            "['974', '1879', '3203', '9829']\n",
            "{'query': 'rekomendasi bisnis ayam', 'p30': 0.1, 'r30': 0.75}\n",
            "======================================================================================\n",
            "[7424, 6114, 1520, 6193, 6299, 6381, 6651, 8195, 6041, 6885, 5845, 6078, 6968, 6128, 2249, 5994, 6292, 2118, 5259, 5330, 7056, 9900, 5136, 5842, 3984, 6627, 6163, 2140, 6282, 7404]\n",
            "['6282', '6041', '1308', '7424', '9236', '1612', '5330', '565', '1520', '5986', '5987', '5994', '6114', '6128']\n",
            "{'query': 'pajak karbon', 'p30': 0.26666666666666666, 'r30': 0.5714285714285714}\n",
            "======================================================================================\n"
          ]
        }
      ]
    },
    {
      "cell_type": "code",
      "source": [
        "p30 = get_average(evaluation, 30,  \"precision\" )\n",
        "r30 = get_average(evaluation, 30,  \"recall\" )\n",
        "\n",
        "print(\"Hasil Evaluasi :\")\n",
        "print(f\"p30 : {p30}\")\n",
        "print(f\"r30 : {r30}\")"
      ],
      "metadata": {
        "colab": {
          "base_uri": "https://localhost:8080/"
        },
        "id": "o4a19lBQLZbV",
        "outputId": "86bab1f6-4d7a-4517-aa3f-63a9bc9ed8de"
      },
      "execution_count": 84,
      "outputs": [
        {
          "output_type": "stream",
          "name": "stdout",
          "text": [
            "Hasil Evaluasi :\n",
            "p30 : 0.05416666666666667\n",
            "r30 : 0.19729888167388165\n"
          ]
        }
      ]
    },
    {
      "cell_type": "markdown",
      "source": [
        "# =========================================================================="
      ],
      "metadata": {
        "id": "1Jy2BADSWFWt"
      }
    },
    {
      "cell_type": "code",
      "source": [
        "import nltk\n",
        "import numpy as np"
      ],
      "metadata": {
        "id": "A3MM-0gTXXJ6"
      },
      "execution_count": 85,
      "outputs": []
    },
    {
      "cell_type": "code",
      "source": [
        "nltk.download('punkt')"
      ],
      "metadata": {
        "colab": {
          "base_uri": "https://localhost:8080/"
        },
        "id": "KgesSSmzYkv9",
        "outputId": "42425e9c-e36d-4880-9ce2-a45a697925b0"
      },
      "execution_count": 27,
      "outputs": [
        {
          "output_type": "stream",
          "name": "stderr",
          "text": [
            "[nltk_data] Downloading package punkt to /root/nltk_data...\n",
            "[nltk_data]   Unzipping tokenizers/punkt.zip.\n"
          ]
        },
        {
          "output_type": "execute_result",
          "data": {
            "text/plain": [
              "True"
            ]
          },
          "metadata": {},
          "execution_count": 27
        }
      ]
    },
    {
      "cell_type": "code",
      "source": [
        "from sklearn.feature_extraction.text import TfidfVectorizer\n",
        "from sklearn.metrics.pairwise import cosine_similarity\n",
        "\n",
        "tfidf = TfidfVectorizer(tokenizer=nltk.word_tokenize,\n",
        "                        sublinear_tf=True, min_df=5, max_df=0.95)\n",
        "X_tfidf = tfidf.fit_transform(master[\"clean_final\"])"
      ],
      "metadata": {
        "id": "9taEImOLV70l",
        "colab": {
          "base_uri": "https://localhost:8080/"
        },
        "outputId": "eccee168-4fea-4f36-a85d-f245621e2d59"
      },
      "execution_count": 86,
      "outputs": [
        {
          "output_type": "stream",
          "name": "stderr",
          "text": [
            "/usr/local/lib/python3.10/dist-packages/sklearn/feature_extraction/text.py:528: UserWarning: The parameter 'token_pattern' will not be used since 'tokenizer' is not None'\n",
            "  warnings.warn(\n"
          ]
        }
      ]
    },
    {
      "cell_type": "code",
      "source": [
        "def get_evaluation_TFIDF(df, df_query, list_panjang):\n",
        "  all_evaluation = []\n",
        "  for i in range(len(df_query)):\n",
        "      current_query = df_query[\"query\"][i]\n",
        "      corpus_embeddings = X_tfidf\n",
        "      query_embeddings = tfidf.transform([current_query])\n",
        "\n",
        "      rank = cosine_similarity(corpus_embeddings, query_embeddings).reshape((-1))\n",
        "      rank_tfidf = master.copy()\n",
        "      rank_tfidf['sim'] = rank\n",
        "      rank_tfidf_sorted = rank_tfidf.sort_values(by=['sim'], ascending=False)\n",
        "      corpus_id = rank_tfidf_sorted.index.to_list()\n",
        "\n",
        "      id_relevant = []\n",
        "      for id in corpus_id[:max(list_panjang)]:\n",
        "        id_relevant.append(df.loc[id][\"Unnamed: 0\"])\n",
        "\n",
        "      list_relevant1 = df_query[\"id_query\"][i].split(\",\")\n",
        "      list_relevant = list(map(str.strip, list_relevant1))\n",
        "\n",
        "      result_evaluation = {\n",
        "          \"query\" : df_query[\"query\"][i]\n",
        "      }\n",
        "\n",
        "      print(id_relevant)\n",
        "      print(list_relevant)\n",
        "\n",
        "      for j in list_panjang :\n",
        "          true_doc = 0\n",
        "\n",
        "          for id in id_relevant[:j]:\n",
        "            if str(id) in list_relevant:\n",
        "              true_doc += 1\n",
        "\n",
        "          p = true_doc/j\n",
        "          recall = true_doc/len(list_relevant)\n",
        "          result_evaluation[f\"p{j}\"] = p\n",
        "          result_evaluation[f\"r{j}\"] = recall\n",
        "\n",
        "      all_evaluation.append(result_evaluation)\n",
        "\n",
        "      print(result_evaluation)\n",
        "      print(\"======================================================================================\")\n",
        "\n",
        "  return all_evaluation"
      ],
      "metadata": {
        "id": "vzXCkwziVcF2"
      },
      "execution_count": 87,
      "outputs": []
    },
    {
      "cell_type": "code",
      "source": [
        "def get_average(evaluation, panjang, type_eval):\n",
        "\n",
        "    if type_eval == \"precision\" :\n",
        "\n",
        "        p_all = []\n",
        "        for i in range(len(evaluation)):\n",
        "            p_all.append(evaluation[i][f\"p{panjang}\"])\n",
        "\n",
        "        rata_rata = sum(p_all) / len(p_all)\n",
        "\n",
        "        # Menampilkan hasil\n",
        "        return rata_rata\n",
        "\n",
        "    elif type_eval == \"recall\" :\n",
        "          recall_all = []\n",
        "          for i in range(len(evaluation)):\n",
        "              recall_all.append(evaluation[i][f\"r{panjang}\"])\n",
        "\n",
        "          rata_rata_recall = sum(recall_all) / len(recall_all)\n",
        "\n",
        "          # Menampilkan hasil\n",
        "          return rata_rata_recall"
      ],
      "metadata": {
        "id": "LOeUDZYDZp9b"
      },
      "execution_count": 88,
      "outputs": []
    },
    {
      "cell_type": "code",
      "source": [
        "evaluation = get_evaluation_TFIDF(master, eval_query, [30])"
      ],
      "metadata": {
        "colab": {
          "base_uri": "https://localhost:8080/"
        },
        "id": "IRuqgL2DZs_1",
        "outputId": "7e0184ec-8ba0-4cf7-97d3-41452122381f"
      },
      "execution_count": 89,
      "outputs": [
        {
          "output_type": "stream",
          "name": "stdout",
          "text": [
            "[5203, 1423, 3928, 3989, 2122, 590, 4587, 765, 6737, 4161, 4367, 5234, 5254, 4045, 2753, 6787, 4334, 4692, 1413, 9639, 5257, 3810, 3020, 4667, 9301, 5957, 928, 6700, 1374, 1290]\n",
            "['767', '765', '5224', '1425']\n",
            "{'query': 'RUU APBN', 'p30': 0.03333333333333333, 'r30': 0.25}\n",
            "======================================================================================\n",
            "[8099, 2482, 3877, 6950, 3907, 1822, 5243, 9027, 5891, 1930, 806, 6465, 1759, 792, 2165, 5210, 5100, 3975, 7361, 5273, 9577, 6665, 1461, 4242, 3377, 8991, 791, 1441, 7185, 6816]\n",
            "['568', '806', '756', '1144', '1930', '4144', '2737', '9577', '9027', '9282', '2482']\n",
            "{'query': 'krisis pangan', 'p30': 0.16666666666666666, 'r30': 0.45454545454545453}\n",
            "======================================================================================\n",
            "[8318, 4658, 7728, 5270, 8373, 1177, 1287, 4728, 599, 1318, 1289, 4755, 8163, 1109, 5268, 4597, 8154, 1309, 8632, 8218, 719, 4761, 1475, 7947, 6002, 994, 8699, 9013, 6495, 8378]\n",
            "['3377', '1287', '1282']\n",
            "{'query': 'ekspor impor pertanian', 'p30': 0.03333333333333333, 'r30': 0.3333333333333333}\n",
            "======================================================================================\n",
            "[5766, 7424, 908, 1350, 1010, 5335, 9422, 8222, 6041, 6114, 6110, 1520, 6128, 6246, 6139, 6024, 5834, 5994, 5330, 757, 1486, 6126, 6389, 2739, 6701, 3524, 9641, 9945, 5987, 2916]\n",
            "['1423', '5234', '1486', '2825', '2916', '2925', '5335', '6024']\n",
            "{'query': 'Penerimaan pajak', 'p30': 0.13333333333333333, 'r30': 0.5}\n",
            "======================================================================================\n",
            "[8041, 8429, 3613, 7902, 2711, 7916, 2838, 696, 3289, 2872, 3036, 5128, 8417, 8022, 9906, 8090, 8094, 9108, 1370, 9042, 8395, 1244, 9877, 8556, 1017, 2637, 6567, 10060, 8168, 7093]\n",
            "['1370', '4790', '1026']\n",
            "{'query': 'Saham Goto naik', 'p30': 0.03333333333333333, 'r30': 0.3333333333333333}\n",
            "======================================================================================\n",
            "[8001, 429, 1092, 9439, 6973, 6595, 6676, 4522, 8123, 6286, 9330, 405, 8006, 2329, 7750, 2335, 9324, 961, 6826, 4539, 6482, 9715, 671, 7550, 8891, 10022, 10000, 5979, 4531, 9291]\n",
            "['2971', '4522', '4539', '5166', '5979', '6676', '6826', '6943', '7750', '9291', '9324', '9524']\n",
            "{'query': 'Bisnis Ekonomi Syariah', 'p30': 0.26666666666666666, 'r30': 0.6666666666666666}\n",
            "======================================================================================\n",
            "[4021, 5127, 4560, 2910, 5258, 5026, 3394, 5254, 4540, 3488, 1793, 8686, 1045, 8836, 5325, 6735, 8581, 8115, 5765, 4348, 2192, 9303, 1167, 1442, 5332, 9515, 5508, 2176, 2618, 8017]\n",
            "['1500', '4151', '4225', '4348', '6143', '6143']\n",
            "{'query': 'investasi IKN', 'p30': 0.03333333333333333, 'r30': 0.16666666666666666}\n",
            "======================================================================================\n",
            "[1178, 2936, 719, 2834, 9187, 283, 5492, 3115, 4288, 9927, 6562, 8759, 2642, 8559, 8790, 4685, 3994, 2359, 4426, 7801, 1592, 9195, 7089, 9397, 1600, 4767, 6473, 8809, 1163, 8432]\n",
            "['29', '64', '124', '553', '728', '968', '1163', '1213', '1222', '1232', '1269', '1374', '1374', '10065', '8849']\n",
            "{'query': 'rupiah melemah', 'p30': 0.03333333333333333, 'r30': 0.06666666666666667}\n",
            "======================================================================================\n",
            "[7946, 9101, 7747, 6497, 2694, 1745, 9039, 2686, 5984, 5823, 1628, 1552, 9666, 2570, 2719, 979, 7844, 955, 2683, 3929, 770, 4037, 2596, 9804, 2692, 4040, 8585, 2668, 5036, 2181]\n",
            "['3108', '3302', '2492', '9804', '2511', '7946']\n",
            "{'query': 'tarif saldo lrt jakarta', 'p30': 0.06666666666666667, 'r30': 0.3333333333333333}\n",
            "======================================================================================\n",
            "[3446, 6231, 9161, 3302, 5935, 6828, 3099, 1058, 7638, 7513, 9945, 1685, 8975, 8964, 2265, 2347, 3620, 8979, 9112, 1221, 8982, 162, 8459, 1051, 6629, 4213, 1499, 1510, 2466, 6484]\n",
            "['3302', '3446', '6231', '2492', '2693', '2819']\n",
            "{'query': 'bank dki pembayaran non tunai', 'p30': 0.1, 'r30': 0.5}\n",
            "======================================================================================\n",
            "[4725, 2979, 8622, 8232, 9847, 8582, 9775, 9763, 8241, 9835, 9925, 2908, 8659, 8627, 8609, 10098, 9755, 9761, 7713, 8667, 8651, 8565, 7715, 9773, 646, 992, 1159, 9355, 7622, 9776]\n",
            "['1196', '5645', '622', '646', '992', '1159', '4243']\n",
            "{'query': 'garuda penerbangan bandara kertajati', 'p30': 0.1, 'r30': 0.42857142857142855}\n",
            "======================================================================================\n",
            "[6727, 7006, 4102, 6615, 5062, 6698, 7976, 7819, 3906, 6379, 5974, 6639, 3494, 6597, 3932, 6599, 4754, 3758, 6347, 9531, 6742, 6734, 6723, 3805, 3942, 5079, 9921, 4210, 3743, 8068]\n",
            "['3724', '3722', '4056', '4050', '4039', '7447', '8577', '3712', '3743', '3750']\n",
            "{'query': 'hilirisasi kereta cepat', 'p30': 0.03333333333333333, 'r30': 0.1}\n",
            "======================================================================================\n",
            "[9224, 7077, 7556, 6499, 5545, 7387, 6263, 7615, 2054, 10090, 8125, 7358, 3905, 10078, 5028, 7769, 3387, 7366, 6535, 4375, 561, 7285, 4559, 3848, 3483, 1132, 3410, 150, 9139, 7756]\n",
            "['4375', '4655', '4746', '5029', '6269', '4187', '3848', '3905', '9224']\n",
            "{'query': 'modal investasi pariwisata', 'p30': 0.13333333333333333, 'r30': 0.4444444444444444}\n",
            "======================================================================================\n",
            "[7986, 7988, 332, 246, 9121, 7989, 1262, 8891, 9156, 3101, 5294, 237, 318, 9746, 8521, 7852, 8902, 9077, 10091, 9988, 9111, 3708, 9853, 7574, 7827, 5908, 9863, 7842, 7532, 4570]\n",
            "['246', '318', '331', '332', '2317', '7986', '7988', '7989', '8902', '9496', '9739', '1706']\n",
            "{'query': 'peran ojk dalam asuransi', 'p30': 0.23333333333333334, 'r30': 0.5833333333333334}\n",
            "======================================================================================\n",
            "[974, 3203, 620, 2811, 2242, 1879, 4345, 3023, 5045, 2512, 3485, 2297, 9829, 2801, 1640, 1312, 478, 1154, 5702, 366, 5985, 7105, 5227, 6272, 4657, 5267, 3882, 5473, 5771, 8140]\n",
            "['974', '1879', '3203', '9829']\n",
            "{'query': 'rekomendasi bisnis ayam', 'p30': 0.13333333333333333, 'r30': 1.0}\n",
            "======================================================================================\n",
            "[7424, 5330, 6041, 6128, 6114, 5994, 6292, 6885, 5851, 1520, 5986, 5987, 7056, 6299, 6381, 9900, 6282, 6177, 6110, 7662, 6434, 6425, 7680, 8439, 4064, 7404, 5259, 5136, 6079, 6083]\n",
            "['6282', '6041', '1308', '7424', '9236', '1612', '5330', '565', '1520', '5986', '5987', '5994', '6114', '6128']\n",
            "{'query': 'pajak karbon', 'p30': 0.3333333333333333, 'r30': 0.7142857142857143}\n",
            "======================================================================================\n"
          ]
        }
      ]
    },
    {
      "cell_type": "code",
      "source": [
        "p30 = get_average(evaluation, 30,  \"precision\" )\n",
        "r30 = get_average(evaluation, 30,  \"recall\" )\n",
        "\n",
        "print(\"Hasil Evaluasi :\")\n",
        "print(f\"p30 : {p30}\")\n",
        "print(f\"r30 : {r30}\")"
      ],
      "metadata": {
        "colab": {
          "base_uri": "https://localhost:8080/"
        },
        "id": "al34rPWqZud9",
        "outputId": "459f8c7c-4259-483a-a843-e5d2d5689178"
      },
      "execution_count": 90,
      "outputs": [
        {
          "output_type": "stream",
          "name": "stdout",
          "text": [
            "Hasil Evaluasi :\n",
            "p30 : 0.11666666666666665\n",
            "r30 : 0.42969877344877344\n"
          ]
        }
      ]
    },
    {
      "cell_type": "code",
      "source": [
        "current_query = \"saham goto naik\"\n",
        "corpus_embeddings = X_tfidf\n",
        "query_embeddings = tfidf.transform([current_query])\n",
        "\n",
        "rank = cosine_similarity(corpus_embeddings, query_embeddings).reshape((-1))\n",
        "rank_tfidf = master.copy()\n",
        "rank_tfidf['sim'] = rank\n",
        "rank_tfidf_sorted = rank_tfidf.sort_values(by=['sim'], ascending=False)\n",
        "corpus_id = rank_tfidf_sorted.index.to_list()\n",
        "\n"
      ],
      "metadata": {
        "id": "ISOTbhfudyGK"
      },
      "execution_count": 100,
      "outputs": []
    },
    {
      "cell_type": "code",
      "source": [
        "hasil = [master[\"clean_final\"][indeks] for indeks in corpus_id[:30]]"
      ],
      "metadata": {
        "id": "idxHPT5qnh6j"
      },
      "execution_count": 102,
      "outputs": []
    },
    {
      "cell_type": "code",
      "source": [
        "vectorizer = TfidfVectorizer()\n",
        "tfidf_matrix = vectorizer.fit_transform(hasil)\n",
        "feature_names = vectorizer.get_feature_names_out()\n",
        "avg_tfidf_scores = tfidf_matrix.mean(axis=0).tolist()[0]\n",
        "top_words_indices = sorted(range(len(avg_tfidf_scores)), key=lambda i: avg_tfidf_scores[i], reverse=True)\n",
        "\n",
        "extends_query = []\n",
        "for word_index in top_words_indices[5:15]:\n",
        "    word = feature_names[word_index]\n",
        "    score = avg_tfidf_scores[word_index]\n",
        "    extends_query.append(word)"
      ],
      "metadata": {
        "id": "1nvnFn5toCBa"
      },
      "execution_count": 104,
      "outputs": []
    },
    {
      "cell_type": "code",
      "source": [
        "extends_query"
      ],
      "metadata": {
        "colab": {
          "base_uri": "https://localhost:8080/"
        },
        "id": "ilc-PsXroSuY",
        "outputId": "dc24fdcf-6849-4adc-ae22-d04b6f625b1a"
      },
      "execution_count": 105,
      "outputs": [
        {
          "output_type": "execute_result",
          "data": {
            "text/plain": [
              "['triliun',\n",
              " 'miliar',\n",
              " 'harga',\n",
              " 'level',\n",
              " 'jual',\n",
              " 'kuartal',\n",
              " 'walujo',\n",
              " 'beli',\n",
              " 'sekuritas',\n",
              " 'investor']"
            ]
          },
          "metadata": {},
          "execution_count": 105
        }
      ]
    },
    {
      "cell_type": "code",
      "source": [
        "query2 = \" \".join(extends_query)\n",
        "\n",
        "query3 = current_query + \" \" + query2"
      ],
      "metadata": {
        "id": "NMhCjzfkoUhm"
      },
      "execution_count": 108,
      "outputs": []
    },
    {
      "cell_type": "code",
      "source": [
        "query3"
      ],
      "metadata": {
        "colab": {
          "base_uri": "https://localhost:8080/",
          "height": 35
        },
        "id": "QMc3UJWsoc9E",
        "outputId": "cd7e4828-98a6-45df-854f-d0999512d9e8"
      },
      "execution_count": 109,
      "outputs": [
        {
          "output_type": "execute_result",
          "data": {
            "text/plain": [
              "'saham goto naik triliun miliar harga level jual kuartal walujo beli sekuritas investor'"
            ],
            "application/vnd.google.colaboratory.intrinsic+json": {
              "type": "string"
            }
          },
          "metadata": {},
          "execution_count": 109
        }
      ]
    },
    {
      "cell_type": "code",
      "source": [
        "def query_expension_tf_idf(query):\n",
        "  corpus_embeddings = X_tfidf\n",
        "  query_embeddings = tfidf.transform([query])\n",
        "\n",
        "  rank = cosine_similarity(corpus_embeddings, query_embeddings).reshape((-1))\n",
        "  rank_tfidf = master.copy()\n",
        "  rank_tfidf['sim'] = rank\n",
        "  rank_tfidf_sorted = rank_tfidf.sort_values(by=['sim'], ascending=False)\n",
        "  corpus_id = rank_tfidf_sorted.index.to_list()\n",
        "\n",
        "  hasil = [master[\"clean_final\"][indeks] for indeks in corpus_id[:30]]\n",
        "  vectorizer = TfidfVectorizer()\n",
        "  tfidf_matrix = vectorizer.fit_transform(hasil)\n",
        "  feature_names = vectorizer.get_feature_names_out()\n",
        "  avg_tfidf_scores = tfidf_matrix.mean(axis=0).tolist()[0]\n",
        "  top_words_indices = sorted(range(len(avg_tfidf_scores)), key=lambda i: avg_tfidf_scores[i], reverse=True)\n",
        "\n",
        "  extends_query = []\n",
        "  for word_index in top_words_indices[5:8]:\n",
        "      word = feature_names[word_index]\n",
        "      score = avg_tfidf_scores[word_index]\n",
        "      extends_query.append(word)\n",
        "\n",
        "  query2 = \" \".join(extends_query)\n",
        "\n",
        "  query3 = query + \" \" + query2\n",
        "\n",
        "  return query3"
      ],
      "metadata": {
        "id": "bswg7HxFoeE-"
      },
      "execution_count": 114,
      "outputs": []
    },
    {
      "cell_type": "code",
      "source": [
        "def get_evaluation_TFIDF_qe(df, df_query, list_panjang):\n",
        "  all_evaluation = []\n",
        "  for i in range(len(df_query)):\n",
        "      current_query = df_query[\"query\"][i]\n",
        "      query_exp = query_expension_tf_idf(current_query )\n",
        "      corpus_embeddings = X_tfidf\n",
        "      query_embeddings = tfidf.transform([query_exp])\n",
        "\n",
        "      rank = cosine_similarity(corpus_embeddings, query_embeddings).reshape((-1))\n",
        "      rank_tfidf = master.copy()\n",
        "      rank_tfidf['sim'] = rank\n",
        "      rank_tfidf_sorted = rank_tfidf.sort_values(by=['sim'], ascending=False)\n",
        "      corpus_id = rank_tfidf_sorted.index.to_list()\n",
        "\n",
        "\n",
        "\n",
        "      id_relevant = []\n",
        "      for id in corpus_id[:max(list_panjang)]:\n",
        "        id_relevant.append(df.loc[id][\"Unnamed: 0\"])\n",
        "\n",
        "      list_relevant1 = df_query[\"id_query\"][i].split(\",\")\n",
        "      list_relevant = list(map(str.strip, list_relevant1))\n",
        "\n",
        "      result_evaluation = {\n",
        "          \"query\" : query_exp\n",
        "      }\n",
        "\n",
        "      print(id_relevant)\n",
        "      print(list_relevant)\n",
        "\n",
        "      for j in list_panjang :\n",
        "          true_doc = 0\n",
        "\n",
        "          for id in id_relevant[:j]:\n",
        "            if str(id) in list_relevant:\n",
        "              true_doc += 1\n",
        "\n",
        "          p = true_doc/j\n",
        "          recall = true_doc/len(list_relevant)\n",
        "          result_evaluation[f\"p{j}\"] = p\n",
        "          result_evaluation[f\"r{j}\"] = recall\n",
        "\n",
        "      all_evaluation.append(result_evaluation)\n",
        "\n",
        "      print(result_evaluation)\n",
        "      print(\"======================================================================================\")\n",
        "\n",
        "  return all_evaluation"
      ],
      "metadata": {
        "id": "ExCfiVcRoCdY"
      },
      "execution_count": 115,
      "outputs": []
    },
    {
      "cell_type": "code",
      "source": [
        "evaluation = get_evaluation_TFIDF_qe(master, eval_query, [30])"
      ],
      "metadata": {
        "colab": {
          "base_uri": "https://localhost:8080/"
        },
        "id": "rSCT7ZMPnM7_",
        "outputId": "b2d644c4-40be-43c1-be2e-0c6d43cc7a95"
      },
      "execution_count": 116,
      "outputs": [
        {
          "output_type": "stream",
          "name": "stdout",
          "text": [
            "[5334, 3989, 3928, 928, 765, 2753, 4587, 9301, 4161, 9315, 9358, 4334, 1427, 4692, 5321, 5511, 9777, 5339, 5335, 3984, 913, 5492, 5315, 10065, 4367, 990, 9422, 2890, 5278, 2122]\n",
            "['767', '765', '5224', '1425']\n",
            "{'query': 'RUU APBN mulyani sri perintah', 'p30': 0.03333333333333333, 'r30': 0.25}\n",
            "======================================================================================\n",
            "[2482, 5243, 1822, 8099, 5273, 635, 9027, 3393, 1759, 5267, 3877, 3975, 3907, 6272, 7820, 1154, 8140, 5210, 3014, 6950, 5557, 7601, 7444, 4191, 2512, 3736, 10080, 6465, 1312, 5082]\n",
            "['568', '806', '756', '1144', '1930', '4144', '2737', '9577', '9027', '9282', '2482']\n",
            "{'query': 'krisis pangan rp persen turun', 'p30': 0.06666666666666667, 'r30': 0.18181818181818182}\n",
            "======================================================================================\n",
            "[8318, 1177, 8373, 4658, 8163, 4597, 4858, 4728, 8477, 1318, 8154, 1324, 1309, 1109, 8648, 4644, 4735, 1289, 8215, 8211, 1345, 8378, 8568, 4759, 5268, 8218, 4740, 8233, 8220, 8317]\n",
            "['3377', '1287', '1282']\n",
            "{'query': 'ekspor impor pertanian dagang us miliar', 'p30': 0.0, 'r30': 0.0}\n",
            "======================================================================================\n",
            "[908, 5335, 9422, 1010, 5766, 6024, 6110, 1423, 1486, 6389, 1465, 2741, 5399, 1520, 6139, 5627, 5234, 2739, 9641, 1350, 1904, 6126, 2825, 6093, 9777, 5909, 2903, 7424, 1421, 6246]\n",
            "['1423', '5234', '1486', '2825', '2916', '2925', '5335', '6024']\n",
            "{'query': 'Penerimaan pajak rp target tumbuh', 'p30': 0.2, 'r30': 0.75}\n",
            "======================================================================================\n",
            "[8041, 8429, 7902, 7916, 696, 2838, 2872, 3036, 3613, 3289, 8417, 2711, 1017, 5128, 1370, 8556, 8094, 8395, 2637, 9042, 9906, 1244, 10060, 6567, 9108, 9877, 8794, 8168, 8022, 507]\n",
            "['1370', '4790', '1026']\n",
            "{'query': 'Saham Goto naik triliun miliar harga', 'p30': 0.03333333333333333, 'r30': 0.3333333333333333}\n",
            "======================================================================================\n",
            "[429, 405, 9330, 493, 4539, 961, 8001, 2328, 4831, 1092, 5731, 4387, 2335, 1377, 6584, 4171, 5683, 39, 9469, 6595, 9715, 2329, 4522, 6973, 6847, 6286, 6676, 5720, 2652, 8123]\n",
            "['2971', '4522', '4539', '5166', '5979', '6676', '6826', '6943', '7750', '9291', '9324', '9524']\n",
            "{'query': 'Bisnis Ekonomi Syariah bca usaha persen', 'p30': 0.1, 'r30': 0.25}\n",
            "======================================================================================\n",
            "[9515, 9771, 8581, 4223, 9303, 8686, 5765, 9803, 9757, 8836, 2910, 9786, 1045, 5470, 1286, 5960, 5509, 1167, 6735, 5682, 1142, 9360, 4236, 5504, 5500, 4484, 9973, 4348, 5497, 8664]\n",
            "['1500', '4151', '4225', '4348', '6143', '6143']\n",
            "{'query': 'investasi IKN groundbreaking rp perintah', 'p30': 0.03333333333333333, 'r30': 0.16666666666666666}\n",
            "======================================================================================\n",
            "[2834, 9187, 2936, 2642, 283, 5492, 719, 3115, 4685, 8790, 6562, 9195, 8559, 1600, 7089, 8432, 8759, 9927, 3994, 9397, 9238, 1412, 917, 1178, 7212, 2359, 8809, 5866, 1544, 9075]\n",
            "['29', '64', '124', '553', '728', '968', '1163', '1213', '1222', '1232', '1269', '1374', '1374', '10065', '8849']\n",
            "{'query': 'rupiah melemah kuat rp nilai', 'p30': 0.0, 'r30': 0.0}\n",
            "======================================================================================\n",
            "[9101, 2694, 7747, 7946, 2686, 1745, 6497, 9039, 7844, 5984, 2719, 1552, 2570, 3929, 4037, 2683, 5823, 4040, 9666, 1628, 2692, 1790, 955, 2685, 9804, 979, 9378, 8585, 2668, 6142]\n",
            "['3108', '3302', '2492', '9804', '2511', '7946']\n",
            "{'query': 'tarif saldo lrt jakarta promo laku operasi', 'p30': 0.06666666666666667, 'r30': 0.3333333333333333}\n",
            "======================================================================================\n",
            "[5935, 8964, 2752, 8979, 8982, 1685, 4451, 8975, 1221, 2265, 3795, 2466, 6231, 6210, 1510, 6484, 1565, 2952, 3446, 6212, 162, 6216, 1558, 2090, 6940, 6013, 9161, 5587, 2438, 3099]\n",
            "['3302', '3446', '6231', '2492', '2693', '2819']\n",
            "{'query': 'bank dki pembayaran non tunai tarik triliun atm', 'p30': 0.06666666666666667, 'r30': 0.3333333333333333}\n",
            "======================================================================================\n",
            "[2979, 9775, 8232, 7713, 8241, 2908, 9847, 8622, 10098, 9761, 9776, 8609, 4725, 9925, 7715, 9773, 8659, 9763, 8582, 9778, 9835, 8594, 9755, 7622, 8651, 9355, 8627, 8359, 8667, 8565]\n",
            "['1196', '5645', '622', '646', '992', '1159', '4243']\n",
            "{'query': 'garuda penerbangan bandara kertajati husein budi sastranegara', 'p30': 0.0, 'r30': 0.0}\n",
            "======================================================================================\n",
            "[3906, 3494, 5197, 5062, 3805, 4754, 5061, 2787, 4052, 4935, 3358, 5205, 3758, 4580, 4940, 4743, 3651, 5042, 4931, 4102, 4925, 3515, 4932, 6615, 4210, 5812, 4731, 978, 4907, 6723]\n",
            "['3724', '3722', '4056', '4050', '4039', '7447', '8577', '3712', '3743', '3750']\n",
            "{'query': 'hilirisasi kereta cepat bandung coba uji', 'p30': 0.0, 'r30': 0.0}\n",
            "======================================================================================\n",
            "[8125, 6263, 7556, 10078, 5028, 9224, 969, 7769, 6499, 5545, 7077, 7756, 304, 3387, 7358, 9139, 5107, 2797, 7366, 4850, 661, 9114, 2054, 1001, 3671, 2465, 7387, 10090, 1635, 2448]\n",
            "['4375', '4655', '4746', '5029', '6269', '4187', '3848', '3905', '9224']\n",
            "{'query': 'modal investasi pariwisata miliar wisata dana', 'p30': 0.03333333333333333, 'r30': 0.1111111111111111}\n",
            "======================================================================================\n",
            "[7988, 7532, 7574, 246, 9853, 593, 7986, 1553, 3653, 3567, 9863, 10091, 9988, 3101, 9077, 332, 5924, 3708, 2446, 7827, 9806, 9156, 8521, 9783, 3814, 7561, 7989, 7852, 7991, 9109]\n",
            "['246', '318', '331', '332', '2317', '7986', '7988', '7989', '8902', '9496', '9739', '1706']\n",
            "{'query': 'peran ojk dalam asuransi ogi premi triliun', 'p30': 0.16666666666666666, 'r30': 0.4166666666666667}\n",
            "======================================================================================\n",
            "[620, 2811, 5227, 6272, 3023, 5267, 5557, 8140, 10080, 6386, 2242, 5473, 635, 3485, 9837, 5055, 7601, 7820, 7444, 6134, 4345, 9759, 974, 5808, 4657, 2512, 5702, 2297, 4736, 2801]\n",
            "['974', '1879', '3203', '9829']\n",
            "{'query': 'rekomendasi bisnis ayam kg ayam telur', 'p30': 0.03333333333333333, 'r30': 0.25}\n",
            "======================================================================================\n",
            "[7424, 6128, 5330, 6041, 6114, 5994, 6292, 5986, 6381, 6299, 6885, 5987, 5851, 1520, 7056, 9900, 6177, 6425, 6434, 7662, 7680, 6083, 6110, 8439, 7404, 6079, 6627, 6282, 6078, 4064]\n",
            "['6282', '6041', '1308', '7424', '9236', '1612', '5330', '565', '1520', '5986', '5987', '5994', '6114', '6128']\n",
            "{'query': 'pajak karbon rp indonesia tidak', 'p30': 0.3333333333333333, 'r30': 0.7142857142857143}\n",
            "======================================================================================\n"
          ]
        }
      ]
    },
    {
      "cell_type": "code",
      "source": [
        "p30 = get_average(evaluation, 30,  \"precision\" )\n",
        "r30 = get_average(evaluation, 30,  \"recall\" )\n",
        "\n",
        "print(\"Hasil Evaluasi :\")\n",
        "print(f\"p30 : {p30}\")\n",
        "print(f\"r30 : {r30}\")"
      ],
      "metadata": {
        "colab": {
          "base_uri": "https://localhost:8080/"
        },
        "id": "k4m4TPoOqkaw",
        "outputId": "7fc74af9-8029-4057-96dc-eefe4bb0f3b9"
      },
      "execution_count": 117,
      "outputs": [
        {
          "output_type": "stream",
          "name": "stdout",
          "text": [
            "Hasil Evaluasi :\n",
            "p30 : 0.07291666666666666\n",
            "r30 : 0.2556592712842713\n"
          ]
        }
      ]
    },
    {
      "cell_type": "code",
      "source": [],
      "metadata": {
        "id": "zVceFlqqnO5h"
      },
      "execution_count": null,
      "outputs": []
    },
    {
      "cell_type": "code",
      "source": [],
      "metadata": {
        "id": "c47cXTIwnKNg"
      },
      "execution_count": null,
      "outputs": []
    }
  ]
}